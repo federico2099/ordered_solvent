{
 "metadata": {
  "language_info": {
   "codemirror_mode": {
    "name": "ipython",
    "version": 3
   },
   "file_extension": ".py",
   "mimetype": "text/x-python",
   "name": "python",
   "nbconvert_exporter": "python",
   "pygments_lexer": "ipython3",
   "version": "3.7.7"
  },
  "orig_nbformat": 2,
  "kernelspec": {
   "name": "python377jvsc74a57bd0dfa59e20d5c8c60fce0ba53ae3b7bd88e86c0f475f6d58b292feaec904d92263",
   "display_name": "Python 3.7.7 64-bit ('myenv': conda)"
  }
 },
 "nbformat": 4,
 "nbformat_minor": 2,
 "cells": [
  {
   "source": [
    "## With 0.2 V/angstrom electric field"
   ],
   "cell_type": "markdown",
   "metadata": {}
  },
  {
   "cell_type": "code",
   "execution_count": 1,
   "metadata": {},
   "outputs": [
    {
     "output_type": "execute_result",
     "data": {
      "text/plain": [
       "     atom         x         y         z\n",
       "0       O  -0.52983   1.43973  -0.67795\n",
       "1       O  -1.00561   2.24283   0.23205\n",
       "2       O   4.10554  -6.11207   3.44205\n",
       "3       O   3.19884  -6.98977   3.82205\n",
       "4       O   0.66914  -6.55409  -6.07795\n",
       "...   ...       ...       ...       ...\n",
       "8595    O  10.57297 -14.07266  -5.62783\n",
       "8596    O -11.02211  -9.74856  11.12217\n",
       "8597    O -11.78559 -10.12746  10.20217\n",
       "8598    O   8.05677  10.54754 -11.19783\n",
       "8599    O   8.23747  11.05984  -9.96783\n",
       "\n",
       "[8600 rows x 4 columns]"
      ],
      "text/html": "<div>\n<style scoped>\n    .dataframe tbody tr th:only-of-type {\n        vertical-align: middle;\n    }\n\n    .dataframe tbody tr th {\n        vertical-align: top;\n    }\n\n    .dataframe thead th {\n        text-align: right;\n    }\n</style>\n<table border=\"1\" class=\"dataframe\">\n  <thead>\n    <tr style=\"text-align: right;\">\n      <th></th>\n      <th>atom</th>\n      <th>x</th>\n      <th>y</th>\n      <th>z</th>\n    </tr>\n  </thead>\n  <tbody>\n    <tr>\n      <th>0</th>\n      <td>O</td>\n      <td>-0.52983</td>\n      <td>1.43973</td>\n      <td>-0.67795</td>\n    </tr>\n    <tr>\n      <th>1</th>\n      <td>O</td>\n      <td>-1.00561</td>\n      <td>2.24283</td>\n      <td>0.23205</td>\n    </tr>\n    <tr>\n      <th>2</th>\n      <td>O</td>\n      <td>4.10554</td>\n      <td>-6.11207</td>\n      <td>3.44205</td>\n    </tr>\n    <tr>\n      <th>3</th>\n      <td>O</td>\n      <td>3.19884</td>\n      <td>-6.98977</td>\n      <td>3.82205</td>\n    </tr>\n    <tr>\n      <th>4</th>\n      <td>O</td>\n      <td>0.66914</td>\n      <td>-6.55409</td>\n      <td>-6.07795</td>\n    </tr>\n    <tr>\n      <th>...</th>\n      <td>...</td>\n      <td>...</td>\n      <td>...</td>\n      <td>...</td>\n    </tr>\n    <tr>\n      <th>8595</th>\n      <td>O</td>\n      <td>10.57297</td>\n      <td>-14.07266</td>\n      <td>-5.62783</td>\n    </tr>\n    <tr>\n      <th>8596</th>\n      <td>O</td>\n      <td>-11.02211</td>\n      <td>-9.74856</td>\n      <td>11.12217</td>\n    </tr>\n    <tr>\n      <th>8597</th>\n      <td>O</td>\n      <td>-11.78559</td>\n      <td>-10.12746</td>\n      <td>10.20217</td>\n    </tr>\n    <tr>\n      <th>8598</th>\n      <td>O</td>\n      <td>8.05677</td>\n      <td>10.54754</td>\n      <td>-11.19783</td>\n    </tr>\n    <tr>\n      <th>8599</th>\n      <td>O</td>\n      <td>8.23747</td>\n      <td>11.05984</td>\n      <td>-9.96783</td>\n    </tr>\n  </tbody>\n</table>\n<p>8600 rows × 4 columns</p>\n</div>"
     },
     "metadata": {},
     "execution_count": 1
    }
   ],
   "source": [
    "import numpy as np\n",
    "import pandas as pd\n",
    "df = pd.read_csv('cluster_C8H15N2-deleted-replaced-cleaned-4.csv')\n",
    "data = pd.DataFrame(df)\n",
    "data"
   ]
  },
  {
   "cell_type": "code",
   "execution_count": 2,
   "metadata": {},
   "outputs": [
    {
     "output_type": "stream",
     "name": "stdout",
     "text": [
      "1        45.728924\n3        73.241558\n5        21.012669\n7        90.000000\n9        21.420060\n           ...    \n8591     98.897058\n8593     13.205639\n8595     86.021948\n8597    137.186560\n8599     23.828847\nLength: 4300, dtype: float64\n67.36980374303012\n"
     ]
    }
   ],
   "source": [
    "X_ind = (data.x - data.x.shift())[1::2]\n",
    "Y_ind = (data.y - data.y.shift())[1::2]\n",
    "Z_ind = (data.z - data.z.shift())[1::2]\n",
    "Distance = (X_ind*X_ind + Y_ind*Y_ind + Z_ind*Z_ind)**(1/2)\n",
    "costheta = (Z_ind/Distance)\n",
    "deg = np.arccos(costheta)\n",
    "deg2 = (deg/3.1415926535897932384626433)*180\n",
    "print(deg2)\n",
    "avg = sum(deg2)/len(deg2)\n",
    "print(avg)"
   ]
  },
  {
   "cell_type": "code",
   "execution_count": 3,
   "metadata": {},
   "outputs": [
    {
     "output_type": "execute_result",
     "data": {
      "text/plain": [
       "     atom        x         y        z\n",
       "0       O -0.07011   1.73706  0.38507\n",
       "1       O  1.16489   1.87982  0.84787\n",
       "2       O -3.82731  -2.52056  5.17907\n",
       "3       O -4.44044  -2.26806  6.29157\n",
       "4       O -1.63302  -8.86866  3.29737\n",
       "...   ...      ...       ...      ...\n",
       "8595    O -8.81132   8.66698 -3.86065\n",
       "8596    O -2.16705 -10.71422  6.56378\n",
       "8597    O -2.23645  -9.39842  6.42972\n",
       "8598    O  2.46475 -10.43826  7.58181\n",
       "8599    O  3.29375 -11.33243  8.18079\n",
       "\n",
       "[8600 rows x 4 columns]"
      ],
      "text/html": "<div>\n<style scoped>\n    .dataframe tbody tr th:only-of-type {\n        vertical-align: middle;\n    }\n\n    .dataframe tbody tr th {\n        vertical-align: top;\n    }\n\n    .dataframe thead th {\n        text-align: right;\n    }\n</style>\n<table border=\"1\" class=\"dataframe\">\n  <thead>\n    <tr style=\"text-align: right;\">\n      <th></th>\n      <th>atom</th>\n      <th>x</th>\n      <th>y</th>\n      <th>z</th>\n    </tr>\n  </thead>\n  <tbody>\n    <tr>\n      <th>0</th>\n      <td>O</td>\n      <td>-0.07011</td>\n      <td>1.73706</td>\n      <td>0.38507</td>\n    </tr>\n    <tr>\n      <th>1</th>\n      <td>O</td>\n      <td>1.16489</td>\n      <td>1.87982</td>\n      <td>0.84787</td>\n    </tr>\n    <tr>\n      <th>2</th>\n      <td>O</td>\n      <td>-3.82731</td>\n      <td>-2.52056</td>\n      <td>5.17907</td>\n    </tr>\n    <tr>\n      <th>3</th>\n      <td>O</td>\n      <td>-4.44044</td>\n      <td>-2.26806</td>\n      <td>6.29157</td>\n    </tr>\n    <tr>\n      <th>4</th>\n      <td>O</td>\n      <td>-1.63302</td>\n      <td>-8.86866</td>\n      <td>3.29737</td>\n    </tr>\n    <tr>\n      <th>...</th>\n      <td>...</td>\n      <td>...</td>\n      <td>...</td>\n      <td>...</td>\n    </tr>\n    <tr>\n      <th>8595</th>\n      <td>O</td>\n      <td>-8.81132</td>\n      <td>8.66698</td>\n      <td>-3.86065</td>\n    </tr>\n    <tr>\n      <th>8596</th>\n      <td>O</td>\n      <td>-2.16705</td>\n      <td>-10.71422</td>\n      <td>6.56378</td>\n    </tr>\n    <tr>\n      <th>8597</th>\n      <td>O</td>\n      <td>-2.23645</td>\n      <td>-9.39842</td>\n      <td>6.42972</td>\n    </tr>\n    <tr>\n      <th>8598</th>\n      <td>O</td>\n      <td>2.46475</td>\n      <td>-10.43826</td>\n      <td>7.58181</td>\n    </tr>\n    <tr>\n      <th>8599</th>\n      <td>O</td>\n      <td>3.29375</td>\n      <td>-11.33243</td>\n      <td>8.18079</td>\n    </tr>\n  </tbody>\n</table>\n<p>8600 rows × 4 columns</p>\n</div>"
     },
     "metadata": {},
     "execution_count": 3
    }
   ],
   "source": [
    "import numpy as np\n",
    "import pandas as pd\n",
    "df = pd.read_csv('cluster_C8H15N2-deleted-replaced-cleaned-noE-2.csv')\n",
    "data = pd.DataFrame(df)\n",
    "data"
   ]
  },
  {
   "cell_type": "code",
   "execution_count": 4,
   "metadata": {},
   "outputs": [
    {
     "output_type": "stream",
     "name": "stdout",
     "text": [
      "1        69.581815\n3        30.796356\n5        45.899744\n7        73.463621\n9       114.224167\n           ...    \n8591    135.682456\n8593    125.651814\n8595     25.138972\n8597     95.809474\n8599     63.838139\nLength: 4300, dtype: float64\n85.21646851090763\n"
     ]
    }
   ],
   "source": [
    "X_ind = (data.x - data.x.shift())[1::2]\n",
    "Y_ind = (data.y - data.y.shift())[1::2]\n",
    "Z_ind = (data.z - data.z.shift())[1::2]\n",
    "Distance = (X_ind*X_ind + Y_ind*Y_ind + Z_ind*Z_ind)**(1/2)\n",
    "costheta = (Z_ind/Distance)\n",
    "deg = np.arccos(costheta)\n",
    "deg2 = (deg/3.1415926535897932384626433)*180\n",
    "print(deg2)\n",
    "avg = sum(deg2)/len(deg2)\n",
    "print(avg)"
   ]
  },
  {
   "cell_type": "code",
   "execution_count": null,
   "metadata": {},
   "outputs": [],
   "source": []
  }
 ]
}