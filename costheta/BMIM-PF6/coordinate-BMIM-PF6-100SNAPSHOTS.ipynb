{
 "metadata": {
  "language_info": {
   "codemirror_mode": {
    "name": "ipython",
    "version": 3
   },
   "file_extension": ".py",
   "mimetype": "text/x-python",
   "name": "python",
   "nbconvert_exporter": "python",
   "pygments_lexer": "ipython3",
   "version": "3.7.7"
  },
  "orig_nbformat": 2,
  "kernelspec": {
   "name": "python377jvsc74a57bd0dfa59e20d5c8c60fce0ba53ae3b7bd88e86c0f475f6d58b292feaec904d92263",
   "display_name": "Python 3.7.7 64-bit ('myenv': conda)"
  }
 },
 "nbformat": 4,
 "nbformat_minor": 2,
 "cells": [
  {
   "source": [
    "## Under field"
   ],
   "cell_type": "markdown",
   "metadata": {}
  },
  {
   "cell_type": "code",
   "execution_count": 5,
   "metadata": {},
   "outputs": [
    {
     "output_type": "execute_result",
     "data": {
      "text/plain": [
       "     atom         x         y         z\n",
       "0       O   0.92598  -0.10353   1.40217\n",
       "1       O   0.90554  -1.36293   1.71217\n",
       "2       O  -0.37006   3.85787   2.99217\n",
       "3       O   0.02094   3.02387   3.98217\n",
       "4       O  -5.56336   0.15397   1.36217\n",
       "...   ...       ...       ...       ...\n",
       "8595    O -14.52807  -8.58655  -7.05113\n",
       "8596    O   9.93848  12.57150   8.92887\n",
       "8597    O  10.56739  12.42150   7.76887\n",
       "8598    O  12.80873  -6.88770  12.11887\n",
       "8599    O  13.88573  -6.65810  12.81887\n",
       "\n",
       "[8600 rows x 4 columns]"
      ],
      "text/html": "<div>\n<style scoped>\n    .dataframe tbody tr th:only-of-type {\n        vertical-align: middle;\n    }\n\n    .dataframe tbody tr th {\n        vertical-align: top;\n    }\n\n    .dataframe thead th {\n        text-align: right;\n    }\n</style>\n<table border=\"1\" class=\"dataframe\">\n  <thead>\n    <tr style=\"text-align: right;\">\n      <th></th>\n      <th>atom</th>\n      <th>x</th>\n      <th>y</th>\n      <th>z</th>\n    </tr>\n  </thead>\n  <tbody>\n    <tr>\n      <th>0</th>\n      <td>O</td>\n      <td>0.92598</td>\n      <td>-0.10353</td>\n      <td>1.40217</td>\n    </tr>\n    <tr>\n      <th>1</th>\n      <td>O</td>\n      <td>0.90554</td>\n      <td>-1.36293</td>\n      <td>1.71217</td>\n    </tr>\n    <tr>\n      <th>2</th>\n      <td>O</td>\n      <td>-0.37006</td>\n      <td>3.85787</td>\n      <td>2.99217</td>\n    </tr>\n    <tr>\n      <th>3</th>\n      <td>O</td>\n      <td>0.02094</td>\n      <td>3.02387</td>\n      <td>3.98217</td>\n    </tr>\n    <tr>\n      <th>4</th>\n      <td>O</td>\n      <td>-5.56336</td>\n      <td>0.15397</td>\n      <td>1.36217</td>\n    </tr>\n    <tr>\n      <th>...</th>\n      <td>...</td>\n      <td>...</td>\n      <td>...</td>\n      <td>...</td>\n    </tr>\n    <tr>\n      <th>8595</th>\n      <td>O</td>\n      <td>-14.52807</td>\n      <td>-8.58655</td>\n      <td>-7.05113</td>\n    </tr>\n    <tr>\n      <th>8596</th>\n      <td>O</td>\n      <td>9.93848</td>\n      <td>12.57150</td>\n      <td>8.92887</td>\n    </tr>\n    <tr>\n      <th>8597</th>\n      <td>O</td>\n      <td>10.56739</td>\n      <td>12.42150</td>\n      <td>7.76887</td>\n    </tr>\n    <tr>\n      <th>8598</th>\n      <td>O</td>\n      <td>12.80873</td>\n      <td>-6.88770</td>\n      <td>12.11887</td>\n    </tr>\n    <tr>\n      <th>8599</th>\n      <td>O</td>\n      <td>13.88573</td>\n      <td>-6.65810</td>\n      <td>12.81887</td>\n    </tr>\n  </tbody>\n</table>\n<p>8600 rows × 4 columns</p>\n</div>"
     },
     "metadata": {},
     "execution_count": 5
    }
   ],
   "source": [
    "import numpy as np\n",
    "import pandas as pd \n",
    "df = pd.read_csv('cluster_C8H15N2-deleted-replaced-cleaned.csv')\n",
    "data = pd.DataFrame(df)\n",
    "data"
   ]
  },
  {
   "cell_type": "code",
   "execution_count": 7,
   "metadata": {},
   "outputs": [
    {
     "output_type": "stream",
     "name": "stdout",
     "text": [
      "0.53246443904561\nits 57.83 degree!\n"
     ]
    }
   ],
   "source": [
    "X_ind = (data.x - data.x.shift())[1::2]\n",
    "Y_ind = (data.y - data.y.shift())[1::2]\n",
    "Z_ind = (data.z - data.z.shift())[1::2]\n",
    "Distance = (X_ind*X_ind + Y_ind*Y_ind + Z_ind*Z_ind)**(1/2)\n",
    "costheta = (abs(Z_ind)/Distance)\n",
    "#print(costheta)\n",
    "avg = sum(costheta)/len(costheta)\n",
    "print(avg)\n",
    "print(\"its 57.83 degree!\")"
   ]
  },
  {
   "cell_type": "code",
   "execution_count": 2,
   "metadata": {},
   "outputs": [
    {
     "output_type": "execute_result",
     "data": {
      "text/plain": [
       "     atom         x         y         z\n",
       "0       O  -0.52642  -1.28246   0.40386\n",
       "1       O   0.31648  -2.17546   0.93386\n",
       "2       O  -2.95012   1.90854   2.71386\n",
       "3       O  -2.51912   3.14854   2.90386\n",
       "4       O   1.42358  -0.80286  -3.97614\n",
       "...   ...       ...       ...       ...\n",
       "8595    O   8.49636  11.90393  -7.74353\n",
       "8596    O  12.03166 -10.18757  -8.54353\n",
       "8597    O  13.22416  -9.53777  -8.67353\n",
       "8598    O -11.42574  -8.22647  10.95647\n",
       "8599    O -11.67374  -9.40827  11.46647\n",
       "\n",
       "[8600 rows x 4 columns]"
      ],
      "text/html": "<div>\n<style scoped>\n    .dataframe tbody tr th:only-of-type {\n        vertical-align: middle;\n    }\n\n    .dataframe tbody tr th {\n        vertical-align: top;\n    }\n\n    .dataframe thead th {\n        text-align: right;\n    }\n</style>\n<table border=\"1\" class=\"dataframe\">\n  <thead>\n    <tr style=\"text-align: right;\">\n      <th></th>\n      <th>atom</th>\n      <th>x</th>\n      <th>y</th>\n      <th>z</th>\n    </tr>\n  </thead>\n  <tbody>\n    <tr>\n      <th>0</th>\n      <td>O</td>\n      <td>-0.52642</td>\n      <td>-1.28246</td>\n      <td>0.40386</td>\n    </tr>\n    <tr>\n      <th>1</th>\n      <td>O</td>\n      <td>0.31648</td>\n      <td>-2.17546</td>\n      <td>0.93386</td>\n    </tr>\n    <tr>\n      <th>2</th>\n      <td>O</td>\n      <td>-2.95012</td>\n      <td>1.90854</td>\n      <td>2.71386</td>\n    </tr>\n    <tr>\n      <th>3</th>\n      <td>O</td>\n      <td>-2.51912</td>\n      <td>3.14854</td>\n      <td>2.90386</td>\n    </tr>\n    <tr>\n      <th>4</th>\n      <td>O</td>\n      <td>1.42358</td>\n      <td>-0.80286</td>\n      <td>-3.97614</td>\n    </tr>\n    <tr>\n      <th>...</th>\n      <td>...</td>\n      <td>...</td>\n      <td>...</td>\n      <td>...</td>\n    </tr>\n    <tr>\n      <th>8595</th>\n      <td>O</td>\n      <td>8.49636</td>\n      <td>11.90393</td>\n      <td>-7.74353</td>\n    </tr>\n    <tr>\n      <th>8596</th>\n      <td>O</td>\n      <td>12.03166</td>\n      <td>-10.18757</td>\n      <td>-8.54353</td>\n    </tr>\n    <tr>\n      <th>8597</th>\n      <td>O</td>\n      <td>13.22416</td>\n      <td>-9.53777</td>\n      <td>-8.67353</td>\n    </tr>\n    <tr>\n      <th>8598</th>\n      <td>O</td>\n      <td>-11.42574</td>\n      <td>-8.22647</td>\n      <td>10.95647</td>\n    </tr>\n    <tr>\n      <th>8599</th>\n      <td>O</td>\n      <td>-11.67374</td>\n      <td>-9.40827</td>\n      <td>11.46647</td>\n    </tr>\n  </tbody>\n</table>\n<p>8600 rows × 4 columns</p>\n</div>"
     },
     "metadata": {},
     "execution_count": 2
    }
   ],
   "source": [
    "import numpy as np\n",
    "import pandas as pd\n",
    "df = pd.read_csv('cluster_C8H15N2-deleted-replaced-cleaned-2.csv')\n",
    "data = pd.DataFrame(df)\n",
    "data"
   ]
  },
  {
   "cell_type": "code",
   "execution_count": 3,
   "metadata": {},
   "outputs": [
    {
     "output_type": "stream",
     "name": "stdout",
     "text": [
      "0.5335399220535278\n"
     ]
    }
   ],
   "source": [
    "X_ind = (data.x - data.x.shift())[1::2]\n",
    "Y_ind = (data.y - data.y.shift())[1::2]\n",
    "Z_ind = (data.z - data.z.shift())[1::2]\n",
    "Distance = (X_ind*X_ind + Y_ind*Y_ind + Z_ind*Z_ind)**(1/2)\n",
    "costheta = (abs(Z_ind)/Distance)\n",
    "#print(costheta)\n",
    "avg = sum(costheta)/len(costheta)\n",
    "print(avg)"
   ]
  },
  {
   "cell_type": "code",
   "execution_count": 5,
   "metadata": {},
   "outputs": [
    {
     "output_type": "execute_result",
     "data": {
      "text/plain": [
       "     atom         x         y         z\n",
       "0       O  -0.94133  -0.56394   1.30932\n",
       "1       O  -2.05403  -0.40434   0.56932\n",
       "2       O  -0.88163   5.36456  -0.59068\n",
       "3       O  -0.80333   4.58864   0.47932\n",
       "4       O   6.04367  -0.86304   5.35932\n",
       "...   ...       ...       ...       ...\n",
       "8595    O   8.83249   6.63428  10.18816\n",
       "8596    O  12.36059   7.97588   7.43816\n",
       "8597    O  13.11639   8.06488   8.55816\n",
       "8598    O -12.02971  12.90548 -11.15184\n",
       "8599    O -13.06071  12.20138 -10.63184\n",
       "\n",
       "[8600 rows x 4 columns]"
      ],
      "text/html": "<div>\n<style scoped>\n    .dataframe tbody tr th:only-of-type {\n        vertical-align: middle;\n    }\n\n    .dataframe tbody tr th {\n        vertical-align: top;\n    }\n\n    .dataframe thead th {\n        text-align: right;\n    }\n</style>\n<table border=\"1\" class=\"dataframe\">\n  <thead>\n    <tr style=\"text-align: right;\">\n      <th></th>\n      <th>atom</th>\n      <th>x</th>\n      <th>y</th>\n      <th>z</th>\n    </tr>\n  </thead>\n  <tbody>\n    <tr>\n      <th>0</th>\n      <td>O</td>\n      <td>-0.94133</td>\n      <td>-0.56394</td>\n      <td>1.30932</td>\n    </tr>\n    <tr>\n      <th>1</th>\n      <td>O</td>\n      <td>-2.05403</td>\n      <td>-0.40434</td>\n      <td>0.56932</td>\n    </tr>\n    <tr>\n      <th>2</th>\n      <td>O</td>\n      <td>-0.88163</td>\n      <td>5.36456</td>\n      <td>-0.59068</td>\n    </tr>\n    <tr>\n      <th>3</th>\n      <td>O</td>\n      <td>-0.80333</td>\n      <td>4.58864</td>\n      <td>0.47932</td>\n    </tr>\n    <tr>\n      <th>4</th>\n      <td>O</td>\n      <td>6.04367</td>\n      <td>-0.86304</td>\n      <td>5.35932</td>\n    </tr>\n    <tr>\n      <th>...</th>\n      <td>...</td>\n      <td>...</td>\n      <td>...</td>\n      <td>...</td>\n    </tr>\n    <tr>\n      <th>8595</th>\n      <td>O</td>\n      <td>8.83249</td>\n      <td>6.63428</td>\n      <td>10.18816</td>\n    </tr>\n    <tr>\n      <th>8596</th>\n      <td>O</td>\n      <td>12.36059</td>\n      <td>7.97588</td>\n      <td>7.43816</td>\n    </tr>\n    <tr>\n      <th>8597</th>\n      <td>O</td>\n      <td>13.11639</td>\n      <td>8.06488</td>\n      <td>8.55816</td>\n    </tr>\n    <tr>\n      <th>8598</th>\n      <td>O</td>\n      <td>-12.02971</td>\n      <td>12.90548</td>\n      <td>-11.15184</td>\n    </tr>\n    <tr>\n      <th>8599</th>\n      <td>O</td>\n      <td>-13.06071</td>\n      <td>12.20138</td>\n      <td>-10.63184</td>\n    </tr>\n  </tbody>\n</table>\n<p>8600 rows × 4 columns</p>\n</div>"
     },
     "metadata": {},
     "execution_count": 5
    }
   ],
   "source": [
    "import numpy as np\n",
    "import pandas as pd\n",
    "df = pd.read_csv('cluster_C8H15N2-deleted-replaced-cleaned-3.csv')\n",
    "data = pd.DataFrame(df)\n",
    "data"
   ]
  },
  {
   "cell_type": "code",
   "execution_count": 6,
   "metadata": {},
   "outputs": [
    {
     "output_type": "stream",
     "name": "stdout",
     "text": [
      "0.5371209243318201\n"
     ]
    }
   ],
   "source": [
    "X_ind = (data.x - data.x.shift())[1::2]\n",
    "Y_ind = (data.y - data.y.shift())[1::2]\n",
    "Z_ind = (data.z - data.z.shift())[1::2]\n",
    "Distance = (X_ind*X_ind + Y_ind*Y_ind + Z_ind*Z_ind)**(1/2)\n",
    "costheta = (abs(Z_ind)/Distance)\n",
    "#print(costheta)\n",
    "avg = sum(costheta)/len(costheta)\n",
    "print(avg)"
   ]
  },
  {
   "cell_type": "code",
   "execution_count": 7,
   "metadata": {},
   "outputs": [
    {
     "output_type": "stream",
     "name": "stdout",
     "text": [
      "0.5343750951436527\n"
     ]
    }
   ],
   "source": [
    "print((0.53246443904561+0.5335399220535278+0.5371209243318201)/3)"
   ]
  },
  {
   "source": [
    "## No field"
   ],
   "cell_type": "markdown",
   "metadata": {}
  },
  {
   "cell_type": "code",
   "execution_count": 8,
   "metadata": {},
   "outputs": [
    {
     "output_type": "execute_result",
     "data": {
      "text/plain": [
       "     atom         x        y         z\n",
       "0       O  -0.07287  0.86152  -1.27845\n",
       "1       O   0.42846  1.87552  -0.69608\n",
       "2       O  -3.65368  0.16522   4.74252\n",
       "3       O  -3.87568 -0.83938   3.87782\n",
       "4       O   4.69422  1.88192  -5.65430\n",
       "...   ...       ...      ...       ...\n",
       "8595    O  13.57922  8.64905  -3.08029\n",
       "8596    O  -2.95876 -5.79412  12.42279\n",
       "8597    O  -3.27632 -5.44862  11.20679\n",
       "8598    O   8.60192 -7.24190   7.56909\n",
       "8599    O   9.18142 -6.31046   8.33779\n",
       "\n",
       "[8600 rows x 4 columns]"
      ],
      "text/html": "<div>\n<style scoped>\n    .dataframe tbody tr th:only-of-type {\n        vertical-align: middle;\n    }\n\n    .dataframe tbody tr th {\n        vertical-align: top;\n    }\n\n    .dataframe thead th {\n        text-align: right;\n    }\n</style>\n<table border=\"1\" class=\"dataframe\">\n  <thead>\n    <tr style=\"text-align: right;\">\n      <th></th>\n      <th>atom</th>\n      <th>x</th>\n      <th>y</th>\n      <th>z</th>\n    </tr>\n  </thead>\n  <tbody>\n    <tr>\n      <th>0</th>\n      <td>O</td>\n      <td>-0.07287</td>\n      <td>0.86152</td>\n      <td>-1.27845</td>\n    </tr>\n    <tr>\n      <th>1</th>\n      <td>O</td>\n      <td>0.42846</td>\n      <td>1.87552</td>\n      <td>-0.69608</td>\n    </tr>\n    <tr>\n      <th>2</th>\n      <td>O</td>\n      <td>-3.65368</td>\n      <td>0.16522</td>\n      <td>4.74252</td>\n    </tr>\n    <tr>\n      <th>3</th>\n      <td>O</td>\n      <td>-3.87568</td>\n      <td>-0.83938</td>\n      <td>3.87782</td>\n    </tr>\n    <tr>\n      <th>4</th>\n      <td>O</td>\n      <td>4.69422</td>\n      <td>1.88192</td>\n      <td>-5.65430</td>\n    </tr>\n    <tr>\n      <th>...</th>\n      <td>...</td>\n      <td>...</td>\n      <td>...</td>\n      <td>...</td>\n    </tr>\n    <tr>\n      <th>8595</th>\n      <td>O</td>\n      <td>13.57922</td>\n      <td>8.64905</td>\n      <td>-3.08029</td>\n    </tr>\n    <tr>\n      <th>8596</th>\n      <td>O</td>\n      <td>-2.95876</td>\n      <td>-5.79412</td>\n      <td>12.42279</td>\n    </tr>\n    <tr>\n      <th>8597</th>\n      <td>O</td>\n      <td>-3.27632</td>\n      <td>-5.44862</td>\n      <td>11.20679</td>\n    </tr>\n    <tr>\n      <th>8598</th>\n      <td>O</td>\n      <td>8.60192</td>\n      <td>-7.24190</td>\n      <td>7.56909</td>\n    </tr>\n    <tr>\n      <th>8599</th>\n      <td>O</td>\n      <td>9.18142</td>\n      <td>-6.31046</td>\n      <td>8.33779</td>\n    </tr>\n  </tbody>\n</table>\n<p>8600 rows × 4 columns</p>\n</div>"
     },
     "metadata": {},
     "execution_count": 8
    }
   ],
   "source": [
    "import numpy as np\n",
    "import pandas as pd\n",
    "df = pd.read_csv('cluster_C8H15N2-deleted-replaced-cleaned-noE.csv')\n",
    "data = pd.DataFrame(df)\n",
    "data"
   ]
  },
  {
   "cell_type": "code",
   "execution_count": 9,
   "metadata": {},
   "outputs": [
    {
     "output_type": "stream",
     "name": "stdout",
     "text": [
      "0.5532188099132569\n"
     ]
    }
   ],
   "source": [
    "X_ind = (data.x - data.x.shift())[1::2]\n",
    "Y_ind = (data.y - data.y.shift())[1::2]\n",
    "Z_ind = (data.z - data.z.shift())[1::2]\n",
    "Distance = (X_ind*X_ind + Y_ind*Y_ind + Z_ind*Z_ind)**(1/2)\n",
    "costheta = (abs(Z_ind)/Distance)\n",
    "#print(costheta)\n",
    "avg = sum(costheta)/len(costheta)\n",
    "print(avg)"
   ]
  },
  {
   "source": [
    "## Again, not good\n",
    "\n",
    "## If only anions matter, how to explain the OCP difference between BMIM-PF6 and HMIM-PF6?\n",
    "\n",
    "## Use the dipole moment of isolated species is not enough? Treat 1 ion pair together?"
   ],
   "cell_type": "markdown",
   "metadata": {}
  },
  {
   "source": [
    "## how about using C6-N1 atom pair? Under field"
   ],
   "cell_type": "markdown",
   "metadata": {}
  },
  {
   "cell_type": "code",
   "execution_count": 1,
   "metadata": {},
   "outputs": [
    {
     "output_type": "execute_result",
     "data": {
      "text/plain": [
       "     atom         x         y         z\n",
       "0       O  -0.52983   1.43973  -0.67795\n",
       "1       O  -1.00561   2.24283   0.23205\n",
       "2       O   4.10554  -6.11207   3.44205\n",
       "3       O   3.19884  -6.98977   3.82205\n",
       "4       O   0.66914  -6.55409  -6.07795\n",
       "...   ...       ...       ...       ...\n",
       "8595    O  10.57297 -14.07266  -5.62783\n",
       "8596    O -11.02211  -9.74856  11.12217\n",
       "8597    O -11.78559 -10.12746  10.20217\n",
       "8598    O   8.05677  10.54754 -11.19783\n",
       "8599    O   8.23747  11.05984  -9.96783\n",
       "\n",
       "[8600 rows x 4 columns]"
      ],
      "text/html": "<div>\n<style scoped>\n    .dataframe tbody tr th:only-of-type {\n        vertical-align: middle;\n    }\n\n    .dataframe tbody tr th {\n        vertical-align: top;\n    }\n\n    .dataframe thead th {\n        text-align: right;\n    }\n</style>\n<table border=\"1\" class=\"dataframe\">\n  <thead>\n    <tr style=\"text-align: right;\">\n      <th></th>\n      <th>atom</th>\n      <th>x</th>\n      <th>y</th>\n      <th>z</th>\n    </tr>\n  </thead>\n  <tbody>\n    <tr>\n      <th>0</th>\n      <td>O</td>\n      <td>-0.52983</td>\n      <td>1.43973</td>\n      <td>-0.67795</td>\n    </tr>\n    <tr>\n      <th>1</th>\n      <td>O</td>\n      <td>-1.00561</td>\n      <td>2.24283</td>\n      <td>0.23205</td>\n    </tr>\n    <tr>\n      <th>2</th>\n      <td>O</td>\n      <td>4.10554</td>\n      <td>-6.11207</td>\n      <td>3.44205</td>\n    </tr>\n    <tr>\n      <th>3</th>\n      <td>O</td>\n      <td>3.19884</td>\n      <td>-6.98977</td>\n      <td>3.82205</td>\n    </tr>\n    <tr>\n      <th>4</th>\n      <td>O</td>\n      <td>0.66914</td>\n      <td>-6.55409</td>\n      <td>-6.07795</td>\n    </tr>\n    <tr>\n      <th>...</th>\n      <td>...</td>\n      <td>...</td>\n      <td>...</td>\n      <td>...</td>\n    </tr>\n    <tr>\n      <th>8595</th>\n      <td>O</td>\n      <td>10.57297</td>\n      <td>-14.07266</td>\n      <td>-5.62783</td>\n    </tr>\n    <tr>\n      <th>8596</th>\n      <td>O</td>\n      <td>-11.02211</td>\n      <td>-9.74856</td>\n      <td>11.12217</td>\n    </tr>\n    <tr>\n      <th>8597</th>\n      <td>O</td>\n      <td>-11.78559</td>\n      <td>-10.12746</td>\n      <td>10.20217</td>\n    </tr>\n    <tr>\n      <th>8598</th>\n      <td>O</td>\n      <td>8.05677</td>\n      <td>10.54754</td>\n      <td>-11.19783</td>\n    </tr>\n    <tr>\n      <th>8599</th>\n      <td>O</td>\n      <td>8.23747</td>\n      <td>11.05984</td>\n      <td>-9.96783</td>\n    </tr>\n  </tbody>\n</table>\n<p>8600 rows × 4 columns</p>\n</div>"
     },
     "metadata": {},
     "execution_count": 1
    }
   ],
   "source": [
    "import numpy as np\n",
    "import pandas as pd\n",
    "df = pd.read_csv('cluster_C8H15N2-deleted-replaced-cleaned-4.csv')\n",
    "data = pd.DataFrame(df)\n",
    "data"
   ]
  },
  {
   "cell_type": "code",
   "execution_count": 2,
   "metadata": {},
   "outputs": [
    {
     "output_type": "stream",
     "name": "stdout",
     "text": [
      "0.5236929656973981\n"
     ]
    }
   ],
   "source": [
    "X_ind = (data.x - data.x.shift())[1::2]\n",
    "Y_ind = (data.y - data.y.shift())[1::2]\n",
    "Z_ind = (data.z - data.z.shift())[1::2]\n",
    "Distance = (X_ind*X_ind + Y_ind*Y_ind + Z_ind*Z_ind)**(1/2)\n",
    "costheta = (abs(Z_ind)/Distance)\n",
    "#print(costheta)\n",
    "avg = sum(costheta)/len(costheta)\n",
    "print(avg)"
   ]
  },
  {
   "source": [
    "## C6-N1, NO field"
   ],
   "cell_type": "markdown",
   "metadata": {}
  },
  {
   "cell_type": "code",
   "execution_count": 3,
   "metadata": {},
   "outputs": [
    {
     "output_type": "execute_result",
     "data": {
      "text/plain": [
       "     atom        x         y        z\n",
       "0       O -0.07011   1.73706  0.38507\n",
       "1       O  1.16489   1.87982  0.84787\n",
       "2       O -3.82731  -2.52056  5.17907\n",
       "3       O -4.44044  -2.26806  6.29157\n",
       "4       O -1.63302  -8.86866  3.29737\n",
       "...   ...      ...       ...      ...\n",
       "8595    O -8.81132   8.66698 -3.86065\n",
       "8596    O -2.16705 -10.71422  6.56378\n",
       "8597    O -2.23645  -9.39842  6.42972\n",
       "8598    O  2.46475 -10.43826  7.58181\n",
       "8599    O  3.29375 -11.33243  8.18079\n",
       "\n",
       "[8600 rows x 4 columns]"
      ],
      "text/html": "<div>\n<style scoped>\n    .dataframe tbody tr th:only-of-type {\n        vertical-align: middle;\n    }\n\n    .dataframe tbody tr th {\n        vertical-align: top;\n    }\n\n    .dataframe thead th {\n        text-align: right;\n    }\n</style>\n<table border=\"1\" class=\"dataframe\">\n  <thead>\n    <tr style=\"text-align: right;\">\n      <th></th>\n      <th>atom</th>\n      <th>x</th>\n      <th>y</th>\n      <th>z</th>\n    </tr>\n  </thead>\n  <tbody>\n    <tr>\n      <th>0</th>\n      <td>O</td>\n      <td>-0.07011</td>\n      <td>1.73706</td>\n      <td>0.38507</td>\n    </tr>\n    <tr>\n      <th>1</th>\n      <td>O</td>\n      <td>1.16489</td>\n      <td>1.87982</td>\n      <td>0.84787</td>\n    </tr>\n    <tr>\n      <th>2</th>\n      <td>O</td>\n      <td>-3.82731</td>\n      <td>-2.52056</td>\n      <td>5.17907</td>\n    </tr>\n    <tr>\n      <th>3</th>\n      <td>O</td>\n      <td>-4.44044</td>\n      <td>-2.26806</td>\n      <td>6.29157</td>\n    </tr>\n    <tr>\n      <th>4</th>\n      <td>O</td>\n      <td>-1.63302</td>\n      <td>-8.86866</td>\n      <td>3.29737</td>\n    </tr>\n    <tr>\n      <th>...</th>\n      <td>...</td>\n      <td>...</td>\n      <td>...</td>\n      <td>...</td>\n    </tr>\n    <tr>\n      <th>8595</th>\n      <td>O</td>\n      <td>-8.81132</td>\n      <td>8.66698</td>\n      <td>-3.86065</td>\n    </tr>\n    <tr>\n      <th>8596</th>\n      <td>O</td>\n      <td>-2.16705</td>\n      <td>-10.71422</td>\n      <td>6.56378</td>\n    </tr>\n    <tr>\n      <th>8597</th>\n      <td>O</td>\n      <td>-2.23645</td>\n      <td>-9.39842</td>\n      <td>6.42972</td>\n    </tr>\n    <tr>\n      <th>8598</th>\n      <td>O</td>\n      <td>2.46475</td>\n      <td>-10.43826</td>\n      <td>7.58181</td>\n    </tr>\n    <tr>\n      <th>8599</th>\n      <td>O</td>\n      <td>3.29375</td>\n      <td>-11.33243</td>\n      <td>8.18079</td>\n    </tr>\n  </tbody>\n</table>\n<p>8600 rows × 4 columns</p>\n</div>"
     },
     "metadata": {},
     "execution_count": 3
    }
   ],
   "source": [
    "import numpy as np\n",
    "import pandas as pd\n",
    "df = pd.read_csv('cluster_C8H15N2-deleted-replaced-cleaned-noE-2.csv')\n",
    "data = pd.DataFrame(df)\n",
    "data"
   ]
  },
  {
   "cell_type": "code",
   "execution_count": 4,
   "metadata": {},
   "outputs": [
    {
     "output_type": "stream",
     "name": "stdout",
     "text": [
      "0.5632618305014048\n"
     ]
    }
   ],
   "source": [
    "X_ind = (data.x - data.x.shift())[1::2]\n",
    "Y_ind = (data.y - data.y.shift())[1::2]\n",
    "Z_ind = (data.z - data.z.shift())[1::2]\n",
    "Distance = (X_ind*X_ind + Y_ind*Y_ind + Z_ind*Z_ind)**(1/2)\n",
    "costheta = (abs(Z_ind)/Distance)\n",
    "#print(costheta)\n",
    "avg = sum(costheta)/len(costheta)\n",
    "print(avg)"
   ]
  },
  {
   "source": [
    "## why??? "
   ],
   "cell_type": "markdown",
   "metadata": {}
  }
 ]
}