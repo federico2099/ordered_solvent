{
 "metadata": {
  "language_info": {
   "codemirror_mode": {
    "name": "ipython",
    "version": 3
   },
   "file_extension": ".py",
   "mimetype": "text/x-python",
   "name": "python",
   "nbconvert_exporter": "python",
   "pygments_lexer": "ipython3",
   "version": "3.7.7-final"
  },
  "orig_nbformat": 2,
  "kernelspec": {
   "name": "python377jvsc74a57bd0dfa59e20d5c8c60fce0ba53ae3b7bd88e86c0f475f6d58b292feaec904d92263",
   "display_name": "Python 3.7.7 64-bit ('myenv': conda)"
  }
 },
 "nbformat": 4,
 "nbformat_minor": 2,
 "cells": [
  {
   "source": [
    "## Under field"
   ],
   "cell_type": "markdown",
   "metadata": {}
  },
  {
   "cell_type": "code",
   "execution_count": 4,
   "metadata": {},
   "outputs": [
    {
     "output_type": "execute_result",
     "data": {
      "text/plain": [
       "     atom         x         y         z\n",
       "0       O  -0.33920   0.89780   1.53067\n",
       "1       O  -0.13430   1.13980   2.81067\n",
       "2       O  -6.17370  -2.17550  -0.24933\n",
       "3       O  -5.25960  -2.55420   0.65067\n",
       "4       O   4.32100  -5.30170   3.98067\n",
       "...   ...       ...       ...       ...\n",
       "7395    O   8.93151 -11.50767  13.41805\n",
       "7396    O  12.33961 -10.59777  -2.94195\n",
       "7397    O  11.96661  -9.43417  -2.49195\n",
       "7398    O  -9.97209  -7.80647  11.69805\n",
       "7399    O -10.78269  -6.99657  12.36805\n",
       "\n",
       "[7400 rows x 4 columns]"
      ],
      "text/html": "<div>\n<style scoped>\n    .dataframe tbody tr th:only-of-type {\n        vertical-align: middle;\n    }\n\n    .dataframe tbody tr th {\n        vertical-align: top;\n    }\n\n    .dataframe thead th {\n        text-align: right;\n    }\n</style>\n<table border=\"1\" class=\"dataframe\">\n  <thead>\n    <tr style=\"text-align: right;\">\n      <th></th>\n      <th>atom</th>\n      <th>x</th>\n      <th>y</th>\n      <th>z</th>\n    </tr>\n  </thead>\n  <tbody>\n    <tr>\n      <th>0</th>\n      <td>O</td>\n      <td>-0.33920</td>\n      <td>0.89780</td>\n      <td>1.53067</td>\n    </tr>\n    <tr>\n      <th>1</th>\n      <td>O</td>\n      <td>-0.13430</td>\n      <td>1.13980</td>\n      <td>2.81067</td>\n    </tr>\n    <tr>\n      <th>2</th>\n      <td>O</td>\n      <td>-6.17370</td>\n      <td>-2.17550</td>\n      <td>-0.24933</td>\n    </tr>\n    <tr>\n      <th>3</th>\n      <td>O</td>\n      <td>-5.25960</td>\n      <td>-2.55420</td>\n      <td>0.65067</td>\n    </tr>\n    <tr>\n      <th>4</th>\n      <td>O</td>\n      <td>4.32100</td>\n      <td>-5.30170</td>\n      <td>3.98067</td>\n    </tr>\n    <tr>\n      <th>...</th>\n      <td>...</td>\n      <td>...</td>\n      <td>...</td>\n      <td>...</td>\n    </tr>\n    <tr>\n      <th>7395</th>\n      <td>O</td>\n      <td>8.93151</td>\n      <td>-11.50767</td>\n      <td>13.41805</td>\n    </tr>\n    <tr>\n      <th>7396</th>\n      <td>O</td>\n      <td>12.33961</td>\n      <td>-10.59777</td>\n      <td>-2.94195</td>\n    </tr>\n    <tr>\n      <th>7397</th>\n      <td>O</td>\n      <td>11.96661</td>\n      <td>-9.43417</td>\n      <td>-2.49195</td>\n    </tr>\n    <tr>\n      <th>7398</th>\n      <td>O</td>\n      <td>-9.97209</td>\n      <td>-7.80647</td>\n      <td>11.69805</td>\n    </tr>\n    <tr>\n      <th>7399</th>\n      <td>O</td>\n      <td>-10.78269</td>\n      <td>-6.99657</td>\n      <td>12.36805</td>\n    </tr>\n  </tbody>\n</table>\n<p>7400 rows × 4 columns</p>\n</div>"
     },
     "metadata": {},
     "execution_count": 4
    }
   ],
   "source": [
    "import numpy as np\n",
    "import pandas as pd \n",
    "df = pd.read_csv('cluster_C10H19N2-deleted-replaced-cleaned.csv')\n",
    "data = pd.DataFrame(df)\n",
    "data"
   ]
  },
  {
   "cell_type": "code",
   "execution_count": 6,
   "metadata": {},
   "outputs": [
    {
     "output_type": "stream",
     "name": "stdout",
     "text": [
      "0.5494552904944612\nits 56.67 degree!\n"
     ]
    }
   ],
   "source": [
    "X_ind = (data.x - data.x.shift())[1::2]\n",
    "Y_ind = (data.y - data.y.shift())[1::2]\n",
    "Z_ind = (data.z - data.z.shift())[1::2]\n",
    "Distance = (X_ind*X_ind + Y_ind*Y_ind + Z_ind*Z_ind)**(1/2)\n",
    "costheta = (abs(Z_ind)/Distance)\n",
    "#print(costheta)\n",
    "avg = sum(costheta)/len(costheta)\n",
    "print(avg)\n",
    "print(\"its 56.67 degree!\")"
   ]
  },
  {
   "source": [
    "## No field"
   ],
   "cell_type": "markdown",
   "metadata": {}
  },
  {
   "cell_type": "code",
   "execution_count": 1,
   "metadata": {},
   "outputs": [
    {
     "output_type": "execute_result",
     "data": {
      "text/plain": [
       "     atom        x         y         z\n",
       "0       O  1.90800  -0.70657  -1.22136\n",
       "1       O  2.95230   0.00963  -0.74478\n",
       "2       O  3.79530   0.03013   4.89931\n",
       "3       O  3.80490   1.18763   4.23532\n",
       "4       O -8.70056   1.56613  -0.48119\n",
       "...   ...      ...       ...       ...\n",
       "7395    O  6.59124  -3.00287  10.41623\n",
       "7396    O  6.67754 -10.19101   4.89643\n",
       "7397    O  7.51384 -10.15839   3.95113\n",
       "7398    O  6.62644   7.52944   6.17653\n",
       "7399    O  6.51534   8.85404   6.19253\n",
       "\n",
       "[7400 rows x 4 columns]"
      ],
      "text/html": "<div>\n<style scoped>\n    .dataframe tbody tr th:only-of-type {\n        vertical-align: middle;\n    }\n\n    .dataframe tbody tr th {\n        vertical-align: top;\n    }\n\n    .dataframe thead th {\n        text-align: right;\n    }\n</style>\n<table border=\"1\" class=\"dataframe\">\n  <thead>\n    <tr style=\"text-align: right;\">\n      <th></th>\n      <th>atom</th>\n      <th>x</th>\n      <th>y</th>\n      <th>z</th>\n    </tr>\n  </thead>\n  <tbody>\n    <tr>\n      <th>0</th>\n      <td>O</td>\n      <td>1.90800</td>\n      <td>-0.70657</td>\n      <td>-1.22136</td>\n    </tr>\n    <tr>\n      <th>1</th>\n      <td>O</td>\n      <td>2.95230</td>\n      <td>0.00963</td>\n      <td>-0.74478</td>\n    </tr>\n    <tr>\n      <th>2</th>\n      <td>O</td>\n      <td>3.79530</td>\n      <td>0.03013</td>\n      <td>4.89931</td>\n    </tr>\n    <tr>\n      <th>3</th>\n      <td>O</td>\n      <td>3.80490</td>\n      <td>1.18763</td>\n      <td>4.23532</td>\n    </tr>\n    <tr>\n      <th>4</th>\n      <td>O</td>\n      <td>-8.70056</td>\n      <td>1.56613</td>\n      <td>-0.48119</td>\n    </tr>\n    <tr>\n      <th>...</th>\n      <td>...</td>\n      <td>...</td>\n      <td>...</td>\n      <td>...</td>\n    </tr>\n    <tr>\n      <th>7395</th>\n      <td>O</td>\n      <td>6.59124</td>\n      <td>-3.00287</td>\n      <td>10.41623</td>\n    </tr>\n    <tr>\n      <th>7396</th>\n      <td>O</td>\n      <td>6.67754</td>\n      <td>-10.19101</td>\n      <td>4.89643</td>\n    </tr>\n    <tr>\n      <th>7397</th>\n      <td>O</td>\n      <td>7.51384</td>\n      <td>-10.15839</td>\n      <td>3.95113</td>\n    </tr>\n    <tr>\n      <th>7398</th>\n      <td>O</td>\n      <td>6.62644</td>\n      <td>7.52944</td>\n      <td>6.17653</td>\n    </tr>\n    <tr>\n      <th>7399</th>\n      <td>O</td>\n      <td>6.51534</td>\n      <td>8.85404</td>\n      <td>6.19253</td>\n    </tr>\n  </tbody>\n</table>\n<p>7400 rows × 4 columns</p>\n</div>"
     },
     "metadata": {},
     "execution_count": 1
    }
   ],
   "source": [
    "import numpy as np\n",
    "import pandas as pd \n",
    "df = pd.read_csv('cluster_C10H19N2-deleted-replaced-cleaned-noE.csv')\n",
    "data = pd.DataFrame(df)\n",
    "data"
   ]
  },
  {
   "cell_type": "code",
   "execution_count": 2,
   "metadata": {},
   "outputs": [
    {
     "output_type": "stream",
     "name": "stdout",
     "text": [
      "0.4278574499998244\n"
     ]
    }
   ],
   "source": [
    "X_ind = (data.x - data.x.shift())[1::2]\n",
    "Y_ind = (data.y - data.y.shift())[1::2]\n",
    "Z_ind = (data.z - data.z.shift())[1::2]\n",
    "Distance = (X_ind*X_ind + Y_ind*Y_ind + Z_ind*Z_ind)**(1/2)\n",
    "costheta = (abs(Z_ind)/Distance)\n",
    "#print(costheta)\n",
    "avg = sum(costheta)/len(costheta)\n",
    "print(avg)"
   ]
  },
  {
   "source": [
    "## why this one is good ......"
   ],
   "cell_type": "markdown",
   "metadata": {}
  }
 ]
}