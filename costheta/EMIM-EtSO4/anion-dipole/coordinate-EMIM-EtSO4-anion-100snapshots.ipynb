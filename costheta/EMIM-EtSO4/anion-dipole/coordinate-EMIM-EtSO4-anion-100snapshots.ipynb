{
 "metadata": {
  "language_info": {
   "codemirror_mode": {
    "name": "ipython",
    "version": 3
   },
   "file_extension": ".py",
   "mimetype": "text/x-python",
   "name": "python",
   "nbconvert_exporter": "python",
   "pygments_lexer": "ipython3",
   "version": "3.7.7-final"
  },
  "orig_nbformat": 2,
  "kernelspec": {
   "name": "python377jvsc74a57bd0dfa59e20d5c8c60fce0ba53ae3b7bd88e86c0f475f6d58b292feaec904d92263",
   "display_name": "Python 3.7.7 64-bit ('myenv': conda)"
  }
 },
 "nbformat": 4,
 "nbformat_minor": 2,
 "cells": [
  {
   "source": [
    "## Under field"
   ],
   "cell_type": "markdown",
   "metadata": {}
  },
  {
   "cell_type": "code",
   "execution_count": 2,
   "metadata": {},
   "outputs": [
    {
     "output_type": "execute_result",
     "data": {
      "text/plain": [
       "     atom         x         y         z\n",
       "0       O  -0.96001  -0.53318   1.51348\n",
       "1       O   0.54643   0.33702  -0.53652\n",
       "2       O  -3.55077   2.07782  -0.62652\n",
       "3       O  -4.51467   2.70082  -3.06652\n",
       "4       O   2.50783  -4.58338   2.16348\n",
       "...   ...       ...       ...       ...\n",
       "9595    O  -8.63416 -11.80366  11.88721\n",
       "9596    O -11.70523 -11.15796   8.09721\n",
       "9597    O -10.68749 -10.85796   5.78721\n",
       "9598    O  11.28424  13.96334  13.59721\n",
       "9599    O   9.94954  11.95484  12.26721\n",
       "\n",
       "[9600 rows x 4 columns]"
      ],
      "text/html": "<div>\n<style scoped>\n    .dataframe tbody tr th:only-of-type {\n        vertical-align: middle;\n    }\n\n    .dataframe tbody tr th {\n        vertical-align: top;\n    }\n\n    .dataframe thead th {\n        text-align: right;\n    }\n</style>\n<table border=\"1\" class=\"dataframe\">\n  <thead>\n    <tr style=\"text-align: right;\">\n      <th></th>\n      <th>atom</th>\n      <th>x</th>\n      <th>y</th>\n      <th>z</th>\n    </tr>\n  </thead>\n  <tbody>\n    <tr>\n      <th>0</th>\n      <td>O</td>\n      <td>-0.96001</td>\n      <td>-0.53318</td>\n      <td>1.51348</td>\n    </tr>\n    <tr>\n      <th>1</th>\n      <td>O</td>\n      <td>0.54643</td>\n      <td>0.33702</td>\n      <td>-0.53652</td>\n    </tr>\n    <tr>\n      <th>2</th>\n      <td>O</td>\n      <td>-3.55077</td>\n      <td>2.07782</td>\n      <td>-0.62652</td>\n    </tr>\n    <tr>\n      <th>3</th>\n      <td>O</td>\n      <td>-4.51467</td>\n      <td>2.70082</td>\n      <td>-3.06652</td>\n    </tr>\n    <tr>\n      <th>4</th>\n      <td>O</td>\n      <td>2.50783</td>\n      <td>-4.58338</td>\n      <td>2.16348</td>\n    </tr>\n    <tr>\n      <th>...</th>\n      <td>...</td>\n      <td>...</td>\n      <td>...</td>\n      <td>...</td>\n    </tr>\n    <tr>\n      <th>9595</th>\n      <td>O</td>\n      <td>-8.63416</td>\n      <td>-11.80366</td>\n      <td>11.88721</td>\n    </tr>\n    <tr>\n      <th>9596</th>\n      <td>O</td>\n      <td>-11.70523</td>\n      <td>-11.15796</td>\n      <td>8.09721</td>\n    </tr>\n    <tr>\n      <th>9597</th>\n      <td>O</td>\n      <td>-10.68749</td>\n      <td>-10.85796</td>\n      <td>5.78721</td>\n    </tr>\n    <tr>\n      <th>9598</th>\n      <td>O</td>\n      <td>11.28424</td>\n      <td>13.96334</td>\n      <td>13.59721</td>\n    </tr>\n    <tr>\n      <th>9599</th>\n      <td>O</td>\n      <td>9.94954</td>\n      <td>11.95484</td>\n      <td>12.26721</td>\n    </tr>\n  </tbody>\n</table>\n<p>9600 rows × 4 columns</p>\n</div>"
     },
     "metadata": {},
     "execution_count": 2
    }
   ],
   "source": [
    "import numpy as np\n",
    "import pandas as pd \n",
    "df = pd.read_csv('cluster_C2H5O4S-deleted.xyz-replaced-cleaned.csv')\n",
    "data = pd.DataFrame(df)\n",
    "data"
   ]
  },
  {
   "cell_type": "code",
   "execution_count": 3,
   "metadata": {},
   "outputs": [
    {
     "output_type": "stream",
     "name": "stdout",
     "text": [
      "0.770652525488887\nits  degree!\n"
     ]
    }
   ],
   "source": [
    "X_ind = (data.x - data.x.shift())[1::2]\n",
    "Y_ind = (data.y - data.y.shift())[1::2]\n",
    "Z_ind = (data.z - data.z.shift())[1::2]\n",
    "Distance = (X_ind*X_ind + Y_ind*Y_ind + Z_ind*Z_ind)**(1/2)\n",
    "costheta = (abs(Z_ind)/Distance)\n",
    "#print(costheta)\n",
    "avg = sum(costheta)/len(costheta)\n",
    "print(avg)\n",
    "print(\"its 39.59 degree!\")"
   ]
  },
  {
   "cell_type": "code",
   "execution_count": 4,
   "metadata": {},
   "outputs": [
    {
     "output_type": "execute_result",
     "data": {
      "text/plain": [
       "     atom         x         y         z\n",
       "0       O  -0.40733  -1.93626   0.09699\n",
       "1       O   0.08297   0.79564   0.22699\n",
       "2       O   1.39907  -2.91376   4.98699\n",
       "3       O   1.40437  -4.35986   2.66699\n",
       "4       O  -3.76263  -2.98066  -5.04301\n",
       "...   ...       ...       ...       ...\n",
       "9595    O  12.19548  10.38297  -7.67848\n",
       "9596    O  14.16158   6.70707 -11.77848\n",
       "9597    O  11.63858   6.50007 -11.75848\n",
       "9598    O -13.03762  -8.75043 -10.31848\n",
       "9599    O -11.81902  -9.03043 -12.60848\n",
       "\n",
       "[9600 rows x 4 columns]"
      ],
      "text/html": "<div>\n<style scoped>\n    .dataframe tbody tr th:only-of-type {\n        vertical-align: middle;\n    }\n\n    .dataframe tbody tr th {\n        vertical-align: top;\n    }\n\n    .dataframe thead th {\n        text-align: right;\n    }\n</style>\n<table border=\"1\" class=\"dataframe\">\n  <thead>\n    <tr style=\"text-align: right;\">\n      <th></th>\n      <th>atom</th>\n      <th>x</th>\n      <th>y</th>\n      <th>z</th>\n    </tr>\n  </thead>\n  <tbody>\n    <tr>\n      <th>0</th>\n      <td>O</td>\n      <td>-0.40733</td>\n      <td>-1.93626</td>\n      <td>0.09699</td>\n    </tr>\n    <tr>\n      <th>1</th>\n      <td>O</td>\n      <td>0.08297</td>\n      <td>0.79564</td>\n      <td>0.22699</td>\n    </tr>\n    <tr>\n      <th>2</th>\n      <td>O</td>\n      <td>1.39907</td>\n      <td>-2.91376</td>\n      <td>4.98699</td>\n    </tr>\n    <tr>\n      <th>3</th>\n      <td>O</td>\n      <td>1.40437</td>\n      <td>-4.35986</td>\n      <td>2.66699</td>\n    </tr>\n    <tr>\n      <th>4</th>\n      <td>O</td>\n      <td>-3.76263</td>\n      <td>-2.98066</td>\n      <td>-5.04301</td>\n    </tr>\n    <tr>\n      <th>...</th>\n      <td>...</td>\n      <td>...</td>\n      <td>...</td>\n      <td>...</td>\n    </tr>\n    <tr>\n      <th>9595</th>\n      <td>O</td>\n      <td>12.19548</td>\n      <td>10.38297</td>\n      <td>-7.67848</td>\n    </tr>\n    <tr>\n      <th>9596</th>\n      <td>O</td>\n      <td>14.16158</td>\n      <td>6.70707</td>\n      <td>-11.77848</td>\n    </tr>\n    <tr>\n      <th>9597</th>\n      <td>O</td>\n      <td>11.63858</td>\n      <td>6.50007</td>\n      <td>-11.75848</td>\n    </tr>\n    <tr>\n      <th>9598</th>\n      <td>O</td>\n      <td>-13.03762</td>\n      <td>-8.75043</td>\n      <td>-10.31848</td>\n    </tr>\n    <tr>\n      <th>9599</th>\n      <td>O</td>\n      <td>-11.81902</td>\n      <td>-9.03043</td>\n      <td>-12.60848</td>\n    </tr>\n  </tbody>\n</table>\n<p>9600 rows × 4 columns</p>\n</div>"
     },
     "metadata": {},
     "execution_count": 4
    }
   ],
   "source": [
    "import numpy as np\n",
    "import pandas as pd \n",
    "df = pd.read_csv('cluster_C2H5O4S-deleted.xyz-replaced-cleaned-2.csv')\n",
    "data = pd.DataFrame(df)\n",
    "data"
   ]
  },
  {
   "cell_type": "code",
   "execution_count": 5,
   "metadata": {},
   "outputs": [
    {
     "output_type": "stream",
     "name": "stdout",
     "text": [
      "0.7674050101186605\n"
     ]
    }
   ],
   "source": [
    "X_ind = (data.x - data.x.shift())[1::2]\n",
    "Y_ind = (data.y - data.y.shift())[1::2]\n",
    "Z_ind = (data.z - data.z.shift())[1::2]\n",
    "Distance = (X_ind*X_ind + Y_ind*Y_ind + Z_ind*Z_ind)**(1/2)\n",
    "costheta = (abs(Z_ind)/Distance)\n",
    "#print(costheta)\n",
    "avg = sum(costheta)/len(costheta)\n",
    "print(avg)"
   ]
  },
  {
   "cell_type": "code",
   "execution_count": 6,
   "metadata": {},
   "outputs": [
    {
     "output_type": "execute_result",
     "data": {
      "text/plain": [
       "     atom         x         y         z\n",
       "0       O   1.16752  -0.29331   1.36787\n",
       "1       O  -0.68478  -0.00831  -0.46213\n",
       "2       O   5.74562   0.83077  -0.72213\n",
       "3       O   4.22062   0.98961  -2.81213\n",
       "4       O   1.19582  -4.30231   6.16787\n",
       "...   ...       ...       ...       ...\n",
       "9595    O   5.86721  10.81244 -13.14907\n",
       "9596    O  11.88701 -11.51866  -6.69907\n",
       "9597    O  12.01761 -11.54386  -9.36907\n",
       "9598    O  12.42801 -10.77356  12.14093\n",
       "9599    O  12.52571 -12.70456  10.39093\n",
       "\n",
       "[9600 rows x 4 columns]"
      ],
      "text/html": "<div>\n<style scoped>\n    .dataframe tbody tr th:only-of-type {\n        vertical-align: middle;\n    }\n\n    .dataframe tbody tr th {\n        vertical-align: top;\n    }\n\n    .dataframe thead th {\n        text-align: right;\n    }\n</style>\n<table border=\"1\" class=\"dataframe\">\n  <thead>\n    <tr style=\"text-align: right;\">\n      <th></th>\n      <th>atom</th>\n      <th>x</th>\n      <th>y</th>\n      <th>z</th>\n    </tr>\n  </thead>\n  <tbody>\n    <tr>\n      <th>0</th>\n      <td>O</td>\n      <td>1.16752</td>\n      <td>-0.29331</td>\n      <td>1.36787</td>\n    </tr>\n    <tr>\n      <th>1</th>\n      <td>O</td>\n      <td>-0.68478</td>\n      <td>-0.00831</td>\n      <td>-0.46213</td>\n    </tr>\n    <tr>\n      <th>2</th>\n      <td>O</td>\n      <td>5.74562</td>\n      <td>0.83077</td>\n      <td>-0.72213</td>\n    </tr>\n    <tr>\n      <th>3</th>\n      <td>O</td>\n      <td>4.22062</td>\n      <td>0.98961</td>\n      <td>-2.81213</td>\n    </tr>\n    <tr>\n      <th>4</th>\n      <td>O</td>\n      <td>1.19582</td>\n      <td>-4.30231</td>\n      <td>6.16787</td>\n    </tr>\n    <tr>\n      <th>...</th>\n      <td>...</td>\n      <td>...</td>\n      <td>...</td>\n      <td>...</td>\n    </tr>\n    <tr>\n      <th>9595</th>\n      <td>O</td>\n      <td>5.86721</td>\n      <td>10.81244</td>\n      <td>-13.14907</td>\n    </tr>\n    <tr>\n      <th>9596</th>\n      <td>O</td>\n      <td>11.88701</td>\n      <td>-11.51866</td>\n      <td>-6.69907</td>\n    </tr>\n    <tr>\n      <th>9597</th>\n      <td>O</td>\n      <td>12.01761</td>\n      <td>-11.54386</td>\n      <td>-9.36907</td>\n    </tr>\n    <tr>\n      <th>9598</th>\n      <td>O</td>\n      <td>12.42801</td>\n      <td>-10.77356</td>\n      <td>12.14093</td>\n    </tr>\n    <tr>\n      <th>9599</th>\n      <td>O</td>\n      <td>12.52571</td>\n      <td>-12.70456</td>\n      <td>10.39093</td>\n    </tr>\n  </tbody>\n</table>\n<p>9600 rows × 4 columns</p>\n</div>"
     },
     "metadata": {},
     "execution_count": 6
    }
   ],
   "source": [
    "import numpy as np\n",
    "import pandas as pd \n",
    "df = pd.read_csv('cluster_C2H5O4S-deleted.xyz-replaced-cleaned-3.csv')\n",
    "data = pd.DataFrame(df)\n",
    "data"
   ]
  },
  {
   "cell_type": "code",
   "execution_count": 7,
   "metadata": {},
   "outputs": [
    {
     "output_type": "stream",
     "name": "stdout",
     "text": [
      "0.7650624976213092\n"
     ]
    }
   ],
   "source": [
    "X_ind = (data.x - data.x.shift())[1::2]\n",
    "Y_ind = (data.y - data.y.shift())[1::2]\n",
    "Z_ind = (data.z - data.z.shift())[1::2]\n",
    "Distance = (X_ind*X_ind + Y_ind*Y_ind + Z_ind*Z_ind)**(1/2)\n",
    "costheta = (abs(Z_ind)/Distance)\n",
    "#print(costheta)\n",
    "avg = sum(costheta)/len(costheta)\n",
    "print(avg)"
   ]
  },
  {
   "cell_type": "code",
   "execution_count": 8,
   "metadata": {},
   "outputs": [
    {
     "output_type": "stream",
     "name": "stdout",
     "text": [
      "0.7677066777429523\n"
     ]
    }
   ],
   "source": [
    "print((0.770652525488887+0.7674050101186605+0.7650624976213092)/3)"
   ]
  },
  {
   "source": [
    "## No field"
   ],
   "cell_type": "markdown",
   "metadata": {}
  },
  {
   "cell_type": "code",
   "execution_count": 1,
   "metadata": {},
   "outputs": [
    {
     "output_type": "execute_result",
     "data": {
      "text/plain": [
       "     atom         x         y         z\n",
       "0       O   0.96200   0.63880  -1.35587\n",
       "1       O  -0.51446  -0.42810   0.48643\n",
       "2       O  -1.12495   3.59912  -2.59637\n",
       "3       O   0.36344   5.70661  -1.78347\n",
       "4       O   5.41464   1.67560  -5.53877\n",
       "...   ...       ...       ...       ...\n",
       "9595    O  11.12207   6.75753  -8.17511\n",
       "9596    O   7.65247  11.70766 -10.70451\n",
       "9597    O   9.81824  12.98746  -9.50801\n",
       "9598    O  -7.84678  -9.00993   9.30699\n",
       "9599    O  -9.42258 -10.36599  10.99869\n",
       "\n",
       "[9600 rows x 4 columns]"
      ],
      "text/html": "<div>\n<style scoped>\n    .dataframe tbody tr th:only-of-type {\n        vertical-align: middle;\n    }\n\n    .dataframe tbody tr th {\n        vertical-align: top;\n    }\n\n    .dataframe thead th {\n        text-align: right;\n    }\n</style>\n<table border=\"1\" class=\"dataframe\">\n  <thead>\n    <tr style=\"text-align: right;\">\n      <th></th>\n      <th>atom</th>\n      <th>x</th>\n      <th>y</th>\n      <th>z</th>\n    </tr>\n  </thead>\n  <tbody>\n    <tr>\n      <th>0</th>\n      <td>O</td>\n      <td>0.96200</td>\n      <td>0.63880</td>\n      <td>-1.35587</td>\n    </tr>\n    <tr>\n      <th>1</th>\n      <td>O</td>\n      <td>-0.51446</td>\n      <td>-0.42810</td>\n      <td>0.48643</td>\n    </tr>\n    <tr>\n      <th>2</th>\n      <td>O</td>\n      <td>-1.12495</td>\n      <td>3.59912</td>\n      <td>-2.59637</td>\n    </tr>\n    <tr>\n      <th>3</th>\n      <td>O</td>\n      <td>0.36344</td>\n      <td>5.70661</td>\n      <td>-1.78347</td>\n    </tr>\n    <tr>\n      <th>4</th>\n      <td>O</td>\n      <td>5.41464</td>\n      <td>1.67560</td>\n      <td>-5.53877</td>\n    </tr>\n    <tr>\n      <th>...</th>\n      <td>...</td>\n      <td>...</td>\n      <td>...</td>\n      <td>...</td>\n    </tr>\n    <tr>\n      <th>9595</th>\n      <td>O</td>\n      <td>11.12207</td>\n      <td>6.75753</td>\n      <td>-8.17511</td>\n    </tr>\n    <tr>\n      <th>9596</th>\n      <td>O</td>\n      <td>7.65247</td>\n      <td>11.70766</td>\n      <td>-10.70451</td>\n    </tr>\n    <tr>\n      <th>9597</th>\n      <td>O</td>\n      <td>9.81824</td>\n      <td>12.98746</td>\n      <td>-9.50801</td>\n    </tr>\n    <tr>\n      <th>9598</th>\n      <td>O</td>\n      <td>-7.84678</td>\n      <td>-9.00993</td>\n      <td>9.30699</td>\n    </tr>\n    <tr>\n      <th>9599</th>\n      <td>O</td>\n      <td>-9.42258</td>\n      <td>-10.36599</td>\n      <td>10.99869</td>\n    </tr>\n  </tbody>\n</table>\n<p>9600 rows × 4 columns</p>\n</div>"
     },
     "metadata": {},
     "execution_count": 1
    }
   ],
   "source": [
    "import numpy as np\n",
    "import pandas as pd \n",
    "df = pd.read_csv('cluster_C2H5O4S-deleted.xyz-replaced-cleaned-noE.csv')\n",
    "data = pd.DataFrame(df)\n",
    "data"
   ]
  },
  {
   "cell_type": "code",
   "execution_count": 2,
   "metadata": {},
   "outputs": [
    {
     "output_type": "stream",
     "name": "stdout",
     "text": [
      "0.49513091680096305\n"
     ]
    }
   ],
   "source": [
    "X_ind = (data.x - data.x.shift())[1::2]\n",
    "Y_ind = (data.y - data.y.shift())[1::2]\n",
    "Z_ind = (data.z - data.z.shift())[1::2]\n",
    "Distance = (X_ind*X_ind + Y_ind*Y_ind + Z_ind*Z_ind)**(1/2)\n",
    "costheta = (abs(Z_ind)/Distance)\n",
    "#print(costheta)\n",
    "avg = sum(costheta)/len(costheta)\n",
    "print(avg)"
   ]
  },
  {
   "source": [
    "## Good! This is an obvious ordering!!! from 60.32 degree to 39.59 degree"
   ],
   "cell_type": "markdown",
   "metadata": {}
  }
 ]
}