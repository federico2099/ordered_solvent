{
 "metadata": {
  "language_info": {
   "codemirror_mode": {
    "name": "ipython",
    "version": 3
   },
   "file_extension": ".py",
   "mimetype": "text/x-python",
   "name": "python",
   "nbconvert_exporter": "python",
   "pygments_lexer": "ipython3",
   "version": "3.7.7"
  },
  "orig_nbformat": 2,
  "kernelspec": {
   "name": "python377jvsc74a57bd0dfa59e20d5c8c60fce0ba53ae3b7bd88e86c0f475f6d58b292feaec904d92263",
   "display_name": "Python 3.7.7 64-bit ('myenv': conda)"
  }
 },
 "nbformat": 4,
 "nbformat_minor": 2,
 "cells": [
  {
   "source": [
    "## with 0.2 V/angstrom electric field"
   ],
   "cell_type": "markdown",
   "metadata": {}
  },
  {
   "cell_type": "code",
   "execution_count": 6,
   "metadata": {},
   "outputs": [
    {
     "output_type": "execute_result",
     "data": {
      "text/plain": [
       "     atom         x         y         z\n",
       "0       O   1.16752  -0.29331   1.36787\n",
       "1       O  -0.68478  -0.00831  -0.46213\n",
       "2       O   5.74562   0.83077  -0.72213\n",
       "3       O   4.22062   0.98961  -2.81213\n",
       "4       O   1.19582  -4.30231   6.16787\n",
       "...   ...       ...       ...       ...\n",
       "9595    O   5.86721  10.81244 -13.14907\n",
       "9596    O  11.88701 -11.51866  -6.69907\n",
       "9597    O  12.01761 -11.54386  -9.36907\n",
       "9598    O  12.42801 -10.77356  12.14093\n",
       "9599    O  12.52571 -12.70456  10.39093\n",
       "\n",
       "[9600 rows x 4 columns]"
      ],
      "text/html": "<div>\n<style scoped>\n    .dataframe tbody tr th:only-of-type {\n        vertical-align: middle;\n    }\n\n    .dataframe tbody tr th {\n        vertical-align: top;\n    }\n\n    .dataframe thead th {\n        text-align: right;\n    }\n</style>\n<table border=\"1\" class=\"dataframe\">\n  <thead>\n    <tr style=\"text-align: right;\">\n      <th></th>\n      <th>atom</th>\n      <th>x</th>\n      <th>y</th>\n      <th>z</th>\n    </tr>\n  </thead>\n  <tbody>\n    <tr>\n      <th>0</th>\n      <td>O</td>\n      <td>1.16752</td>\n      <td>-0.29331</td>\n      <td>1.36787</td>\n    </tr>\n    <tr>\n      <th>1</th>\n      <td>O</td>\n      <td>-0.68478</td>\n      <td>-0.00831</td>\n      <td>-0.46213</td>\n    </tr>\n    <tr>\n      <th>2</th>\n      <td>O</td>\n      <td>5.74562</td>\n      <td>0.83077</td>\n      <td>-0.72213</td>\n    </tr>\n    <tr>\n      <th>3</th>\n      <td>O</td>\n      <td>4.22062</td>\n      <td>0.98961</td>\n      <td>-2.81213</td>\n    </tr>\n    <tr>\n      <th>4</th>\n      <td>O</td>\n      <td>1.19582</td>\n      <td>-4.30231</td>\n      <td>6.16787</td>\n    </tr>\n    <tr>\n      <th>...</th>\n      <td>...</td>\n      <td>...</td>\n      <td>...</td>\n      <td>...</td>\n    </tr>\n    <tr>\n      <th>9595</th>\n      <td>O</td>\n      <td>5.86721</td>\n      <td>10.81244</td>\n      <td>-13.14907</td>\n    </tr>\n    <tr>\n      <th>9596</th>\n      <td>O</td>\n      <td>11.88701</td>\n      <td>-11.51866</td>\n      <td>-6.69907</td>\n    </tr>\n    <tr>\n      <th>9597</th>\n      <td>O</td>\n      <td>12.01761</td>\n      <td>-11.54386</td>\n      <td>-9.36907</td>\n    </tr>\n    <tr>\n      <th>9598</th>\n      <td>O</td>\n      <td>12.42801</td>\n      <td>-10.77356</td>\n      <td>12.14093</td>\n    </tr>\n    <tr>\n      <th>9599</th>\n      <td>O</td>\n      <td>12.52571</td>\n      <td>-12.70456</td>\n      <td>10.39093</td>\n    </tr>\n  </tbody>\n</table>\n<p>9600 rows × 4 columns</p>\n</div>"
     },
     "metadata": {},
     "execution_count": 6
    }
   ],
   "source": [
    "import numpy as np\n",
    "import pandas as pd \n",
    "df = pd.read_csv('cluster_C2H5O4S-deleted.xyz-replaced-cleaned-3.csv')\n",
    "data = pd.DataFrame(df)\n",
    "data"
   ]
  },
  {
   "cell_type": "code",
   "execution_count": 7,
   "metadata": {},
   "outputs": [
    {
     "output_type": "stream",
     "name": "stdout",
     "text": [
      "1       45.682073\n3       36.264233\n5       56.189076\n7       23.612291\n9       25.936191\n          ...    \n9591    63.967391\n9593    16.550401\n9595    22.006618\n9597     2.851895\n9599    47.851490\nLength: 4800, dtype: float64\n36.82576031000732\n"
     ]
    }
   ],
   "source": [
    "X_ind = (data.x - data.x.shift())[1::2]\n",
    "Y_ind = (data.y - data.y.shift())[1::2]\n",
    "Z_ind = (data.z - data.z.shift())[1::2]\n",
    "Distance = (X_ind*X_ind + Y_ind*Y_ind + Z_ind*Z_ind)**(1/2)\n",
    "costheta = (-Z_ind/Distance) \n",
    "## here we use -z_ind because the coordinates problem, in cluster_C2H5O4S-deleted.xyz-replaced-cleaned-3.csv, from atom1 to atom2 is standarad physical definition of dipole moment while in this work (and other 3 molecules) we use the GaussView definition, so for consistent here we use -z_ind\n",
    "deg = np.arccos(costheta)\n",
    "deg2 = (deg/3.1415926535897932384626433)*180\n",
    "print(deg2)\n",
    "avg = sum(deg2)/len(deg2)\n",
    "print(avg)"
   ]
  },
  {
   "source": [
    "## without field"
   ],
   "cell_type": "markdown",
   "metadata": {}
  },
  {
   "cell_type": "code",
   "execution_count": 8,
   "metadata": {},
   "outputs": [
    {
     "output_type": "execute_result",
     "data": {
      "text/plain": [
       "     atom         x         y         z\n",
       "0       O   0.96200   0.63880  -1.35587\n",
       "1       O  -0.51446  -0.42810   0.48643\n",
       "2       O  -1.12495   3.59912  -2.59637\n",
       "3       O   0.36344   5.70661  -1.78347\n",
       "4       O   5.41464   1.67560  -5.53877\n",
       "...   ...       ...       ...       ...\n",
       "9595    O  11.12207   6.75753  -8.17511\n",
       "9596    O   7.65247  11.70766 -10.70451\n",
       "9597    O   9.81824  12.98746  -9.50801\n",
       "9598    O  -7.84678  -9.00993   9.30699\n",
       "9599    O  -9.42258 -10.36599  10.99869\n",
       "\n",
       "[9600 rows x 4 columns]"
      ],
      "text/html": "<div>\n<style scoped>\n    .dataframe tbody tr th:only-of-type {\n        vertical-align: middle;\n    }\n\n    .dataframe tbody tr th {\n        vertical-align: top;\n    }\n\n    .dataframe thead th {\n        text-align: right;\n    }\n</style>\n<table border=\"1\" class=\"dataframe\">\n  <thead>\n    <tr style=\"text-align: right;\">\n      <th></th>\n      <th>atom</th>\n      <th>x</th>\n      <th>y</th>\n      <th>z</th>\n    </tr>\n  </thead>\n  <tbody>\n    <tr>\n      <th>0</th>\n      <td>O</td>\n      <td>0.96200</td>\n      <td>0.63880</td>\n      <td>-1.35587</td>\n    </tr>\n    <tr>\n      <th>1</th>\n      <td>O</td>\n      <td>-0.51446</td>\n      <td>-0.42810</td>\n      <td>0.48643</td>\n    </tr>\n    <tr>\n      <th>2</th>\n      <td>O</td>\n      <td>-1.12495</td>\n      <td>3.59912</td>\n      <td>-2.59637</td>\n    </tr>\n    <tr>\n      <th>3</th>\n      <td>O</td>\n      <td>0.36344</td>\n      <td>5.70661</td>\n      <td>-1.78347</td>\n    </tr>\n    <tr>\n      <th>4</th>\n      <td>O</td>\n      <td>5.41464</td>\n      <td>1.67560</td>\n      <td>-5.53877</td>\n    </tr>\n    <tr>\n      <th>...</th>\n      <td>...</td>\n      <td>...</td>\n      <td>...</td>\n      <td>...</td>\n    </tr>\n    <tr>\n      <th>9595</th>\n      <td>O</td>\n      <td>11.12207</td>\n      <td>6.75753</td>\n      <td>-8.17511</td>\n    </tr>\n    <tr>\n      <th>9596</th>\n      <td>O</td>\n      <td>7.65247</td>\n      <td>11.70766</td>\n      <td>-10.70451</td>\n    </tr>\n    <tr>\n      <th>9597</th>\n      <td>O</td>\n      <td>9.81824</td>\n      <td>12.98746</td>\n      <td>-9.50801</td>\n    </tr>\n    <tr>\n      <th>9598</th>\n      <td>O</td>\n      <td>-7.84678</td>\n      <td>-9.00993</td>\n      <td>9.30699</td>\n    </tr>\n    <tr>\n      <th>9599</th>\n      <td>O</td>\n      <td>-9.42258</td>\n      <td>-10.36599</td>\n      <td>10.99869</td>\n    </tr>\n  </tbody>\n</table>\n<p>9600 rows × 4 columns</p>\n</div>"
     },
     "metadata": {},
     "execution_count": 8
    }
   ],
   "source": [
    "import numpy as np\n",
    "import pandas as pd \n",
    "df = pd.read_csv('cluster_C2H5O4S-deleted.xyz-replaced-cleaned-noE.csv')\n",
    "data = pd.DataFrame(df)\n",
    "data"
   ]
  },
  {
   "cell_type": "code",
   "execution_count": 9,
   "metadata": {},
   "outputs": [
    {
     "output_type": "stream",
     "name": "stdout",
     "text": [
      "1       135.323774\n3       107.487951\n5       128.066155\n7       146.764911\n9        74.172490\n           ...    \n9591    135.992311\n9593     74.227235\n9595    130.835695\n9597    115.436899\n9599    129.136181\nLength: 4800, dtype: float64\n96.1958020035394\n"
     ]
    }
   ],
   "source": [
    "X_ind = (data.x - data.x.shift())[1::2]\n",
    "Y_ind = (data.y - data.y.shift())[1::2]\n",
    "Z_ind = (data.z - data.z.shift())[1::2]\n",
    "Distance = (X_ind*X_ind + Y_ind*Y_ind + Z_ind*Z_ind)**(1/2)\n",
    "costheta = (-Z_ind/Distance)\n",
    "deg = np.arccos(costheta)\n",
    "deg2 = (deg/3.1415926535897932384626433)*180\n",
    "print(deg2)\n",
    "avg = sum(deg2)/len(deg2)\n",
    "print(avg)"
   ]
  }
 ]
}