{
 "metadata": {
  "language_info": {
   "codemirror_mode": {
    "name": "ipython",
    "version": 3
   },
   "file_extension": ".py",
   "mimetype": "text/x-python",
   "name": "python",
   "nbconvert_exporter": "python",
   "pygments_lexer": "ipython3",
   "version": "3.7.7"
  },
  "orig_nbformat": 2,
  "kernelspec": {
   "name": "python377jvsc74a57bd0dfa59e20d5c8c60fce0ba53ae3b7bd88e86c0f475f6d58b292feaec904d92263",
   "display_name": "Python 3.7.7 64-bit ('myenv': conda)"
  }
 },
 "nbformat": 4,
 "nbformat_minor": 2,
 "cells": [
  {
   "source": [
    "## Under field"
   ],
   "cell_type": "markdown",
   "metadata": {}
  },
  {
   "cell_type": "code",
   "execution_count": 3,
   "metadata": {},
   "outputs": [
    {
     "output_type": "execute_result",
     "data": {
      "text/plain": [
       "     atom         x         y         z\n",
       "0       N  -0.53702  -0.43815  -0.03005\n",
       "1       N   0.65738   1.36935   0.23995\n",
       "2       N  -2.87522   0.87175  -3.31005\n",
       "3       N  -4.47672  -0.67735  -3.21005\n",
       "4       N  -4.32712  -1.92315   3.50995\n",
       "...   ...       ...       ...       ...\n",
       "9595    N  -1.39531  11.27875  12.47231\n",
       "9596    N  11.49159   8.94878 -10.71769\n",
       "9597    N  11.07559  10.13578  -8.95769\n",
       "9598    N  11.29169  11.46788   8.17231\n",
       "9599    N  12.15469  12.90048   9.53231\n",
       "\n",
       "[9600 rows x 4 columns]"
      ],
      "text/html": "<div>\n<style scoped>\n    .dataframe tbody tr th:only-of-type {\n        vertical-align: middle;\n    }\n\n    .dataframe tbody tr th {\n        vertical-align: top;\n    }\n\n    .dataframe thead th {\n        text-align: right;\n    }\n</style>\n<table border=\"1\" class=\"dataframe\">\n  <thead>\n    <tr style=\"text-align: right;\">\n      <th></th>\n      <th>atom</th>\n      <th>x</th>\n      <th>y</th>\n      <th>z</th>\n    </tr>\n  </thead>\n  <tbody>\n    <tr>\n      <th>0</th>\n      <td>N</td>\n      <td>-0.53702</td>\n      <td>-0.43815</td>\n      <td>-0.03005</td>\n    </tr>\n    <tr>\n      <th>1</th>\n      <td>N</td>\n      <td>0.65738</td>\n      <td>1.36935</td>\n      <td>0.23995</td>\n    </tr>\n    <tr>\n      <th>2</th>\n      <td>N</td>\n      <td>-2.87522</td>\n      <td>0.87175</td>\n      <td>-3.31005</td>\n    </tr>\n    <tr>\n      <th>3</th>\n      <td>N</td>\n      <td>-4.47672</td>\n      <td>-0.67735</td>\n      <td>-3.21005</td>\n    </tr>\n    <tr>\n      <th>4</th>\n      <td>N</td>\n      <td>-4.32712</td>\n      <td>-1.92315</td>\n      <td>3.50995</td>\n    </tr>\n    <tr>\n      <th>...</th>\n      <td>...</td>\n      <td>...</td>\n      <td>...</td>\n      <td>...</td>\n    </tr>\n    <tr>\n      <th>9595</th>\n      <td>N</td>\n      <td>-1.39531</td>\n      <td>11.27875</td>\n      <td>12.47231</td>\n    </tr>\n    <tr>\n      <th>9596</th>\n      <td>N</td>\n      <td>11.49159</td>\n      <td>8.94878</td>\n      <td>-10.71769</td>\n    </tr>\n    <tr>\n      <th>9597</th>\n      <td>N</td>\n      <td>11.07559</td>\n      <td>10.13578</td>\n      <td>-8.95769</td>\n    </tr>\n    <tr>\n      <th>9598</th>\n      <td>N</td>\n      <td>11.29169</td>\n      <td>11.46788</td>\n      <td>8.17231</td>\n    </tr>\n    <tr>\n      <th>9599</th>\n      <td>N</td>\n      <td>12.15469</td>\n      <td>12.90048</td>\n      <td>9.53231</td>\n    </tr>\n  </tbody>\n</table>\n<p>9600 rows × 4 columns</p>\n</div>"
     },
     "metadata": {},
     "execution_count": 3
    }
   ],
   "source": [
    "import numpy as np\n",
    "import pandas as pd \n",
    "df = pd.read_csv('cluster_C8H15N2-deleted.csv')\n",
    "data = pd.DataFrame(df)\n",
    "data"
   ]
  },
  {
   "cell_type": "code",
   "execution_count": 5,
   "metadata": {},
   "outputs": [
    {
     "output_type": "stream",
     "name": "stdout",
     "text": [
      "0.535343104743049\nits 57.63 degree!\n"
     ]
    }
   ],
   "source": [
    "X_ind = (data.x - data.x.shift())[1::2]\n",
    "Y_ind = (data.y - data.y.shift())[1::2]\n",
    "Z_ind = (data.z - data.z.shift())[1::2]\n",
    "Distance = (X_ind*X_ind + Y_ind*Y_ind + Z_ind*Z_ind)**(1/2)\n",
    "costheta = (abs(Z_ind)/Distance)\n",
    "#print(costheta)\n",
    "avg = sum(costheta)/len(costheta)\n",
    "print(avg)\n",
    "print(\"its 57.63 degree!\")"
   ]
  },
  {
   "cell_type": "code",
   "execution_count": 6,
   "metadata": {},
   "outputs": [
    {
     "output_type": "execute_result",
     "data": {
      "text/plain": [
       "     atom         x         y         z\n",
       "0       N   0.43136   0.60980  -0.17465\n",
       "1       N  -0.69674  -1.05990   0.71535\n",
       "2       N   2.63619  -2.55240  -0.96465\n",
       "3       N   2.14986  -2.32890  -3.07465\n",
       "4       N  -5.23554   1.98290  -2.17465\n",
       "...   ...       ...       ...       ...\n",
       "9595    N  12.72224   6.95561  11.77132\n",
       "9596    N   8.94934 -12.32839  -9.95868\n",
       "9597    N   9.33294 -10.77739  -8.53868\n",
       "9598    N -11.39466  12.40261 -10.62868\n",
       "9599    N  -9.83706  10.99561 -10.52868\n",
       "\n",
       "[9600 rows x 4 columns]"
      ],
      "text/html": "<div>\n<style scoped>\n    .dataframe tbody tr th:only-of-type {\n        vertical-align: middle;\n    }\n\n    .dataframe tbody tr th {\n        vertical-align: top;\n    }\n\n    .dataframe thead th {\n        text-align: right;\n    }\n</style>\n<table border=\"1\" class=\"dataframe\">\n  <thead>\n    <tr style=\"text-align: right;\">\n      <th></th>\n      <th>atom</th>\n      <th>x</th>\n      <th>y</th>\n      <th>z</th>\n    </tr>\n  </thead>\n  <tbody>\n    <tr>\n      <th>0</th>\n      <td>N</td>\n      <td>0.43136</td>\n      <td>0.60980</td>\n      <td>-0.17465</td>\n    </tr>\n    <tr>\n      <th>1</th>\n      <td>N</td>\n      <td>-0.69674</td>\n      <td>-1.05990</td>\n      <td>0.71535</td>\n    </tr>\n    <tr>\n      <th>2</th>\n      <td>N</td>\n      <td>2.63619</td>\n      <td>-2.55240</td>\n      <td>-0.96465</td>\n    </tr>\n    <tr>\n      <th>3</th>\n      <td>N</td>\n      <td>2.14986</td>\n      <td>-2.32890</td>\n      <td>-3.07465</td>\n    </tr>\n    <tr>\n      <th>4</th>\n      <td>N</td>\n      <td>-5.23554</td>\n      <td>1.98290</td>\n      <td>-2.17465</td>\n    </tr>\n    <tr>\n      <th>...</th>\n      <td>...</td>\n      <td>...</td>\n      <td>...</td>\n      <td>...</td>\n    </tr>\n    <tr>\n      <th>9595</th>\n      <td>N</td>\n      <td>12.72224</td>\n      <td>6.95561</td>\n      <td>11.77132</td>\n    </tr>\n    <tr>\n      <th>9596</th>\n      <td>N</td>\n      <td>8.94934</td>\n      <td>-12.32839</td>\n      <td>-9.95868</td>\n    </tr>\n    <tr>\n      <th>9597</th>\n      <td>N</td>\n      <td>9.33294</td>\n      <td>-10.77739</td>\n      <td>-8.53868</td>\n    </tr>\n    <tr>\n      <th>9598</th>\n      <td>N</td>\n      <td>-11.39466</td>\n      <td>12.40261</td>\n      <td>-10.62868</td>\n    </tr>\n    <tr>\n      <th>9599</th>\n      <td>N</td>\n      <td>-9.83706</td>\n      <td>10.99561</td>\n      <td>-10.52868</td>\n    </tr>\n  </tbody>\n</table>\n<p>9600 rows × 4 columns</p>\n</div>"
     },
     "metadata": {},
     "execution_count": 6
    }
   ],
   "source": [
    "import numpy as np\n",
    "import pandas as pd \n",
    "df = pd.read_csv('cluster_C8H15N2-deleted-2.csv')\n",
    "data = pd.DataFrame(df)\n",
    "data"
   ]
  },
  {
   "cell_type": "code",
   "execution_count": 8,
   "metadata": {},
   "outputs": [
    {
     "output_type": "stream",
     "name": "stdout",
     "text": [
      "0.5316858282323577\nits 57.88 degree!\n"
     ]
    }
   ],
   "source": [
    "X_ind = (data.x - data.x.shift())[1::2]\n",
    "Y_ind = (data.y - data.y.shift())[1::2]\n",
    "Z_ind = (data.z - data.z.shift())[1::2]\n",
    "Distance = (X_ind*X_ind + Y_ind*Y_ind + Z_ind*Z_ind)**(1/2)\n",
    "costheta = (abs(Z_ind)/Distance)\n",
    "#print(costheta)\n",
    "avg = sum(costheta)/len(costheta)\n",
    "print(avg)\n",
    "print(\"its 57.88 degree!\")"
   ]
  },
  {
   "cell_type": "code",
   "execution_count": 9,
   "metadata": {},
   "outputs": [
    {
     "output_type": "execute_result",
     "data": {
      "text/plain": [
       "     atom         x         y         z\n",
       "0       N   0.23009  -0.74826  -0.28091\n",
       "1       N  -0.73851   1.14244  -0.32091\n",
       "2       N  -0.02391   4.26914  -4.56091\n",
       "3       N   0.79584   4.87864  -2.61091\n",
       "4       N   1.95199   1.38894   6.71909\n",
       "...   ...       ...       ...       ...\n",
       "9595    N  -9.71382   8.89948  11.42892\n",
       "9596    N  11.29808  10.31852  -8.64108\n",
       "9597    N  10.74918  10.29040  -6.60108\n",
       "9598    N -12.19625  -9.51952  10.82892\n",
       "9599    N -11.47572  -7.56952  10.09892\n",
       "\n",
       "[9600 rows x 4 columns]"
      ],
      "text/html": "<div>\n<style scoped>\n    .dataframe tbody tr th:only-of-type {\n        vertical-align: middle;\n    }\n\n    .dataframe tbody tr th {\n        vertical-align: top;\n    }\n\n    .dataframe thead th {\n        text-align: right;\n    }\n</style>\n<table border=\"1\" class=\"dataframe\">\n  <thead>\n    <tr style=\"text-align: right;\">\n      <th></th>\n      <th>atom</th>\n      <th>x</th>\n      <th>y</th>\n      <th>z</th>\n    </tr>\n  </thead>\n  <tbody>\n    <tr>\n      <th>0</th>\n      <td>N</td>\n      <td>0.23009</td>\n      <td>-0.74826</td>\n      <td>-0.28091</td>\n    </tr>\n    <tr>\n      <th>1</th>\n      <td>N</td>\n      <td>-0.73851</td>\n      <td>1.14244</td>\n      <td>-0.32091</td>\n    </tr>\n    <tr>\n      <th>2</th>\n      <td>N</td>\n      <td>-0.02391</td>\n      <td>4.26914</td>\n      <td>-4.56091</td>\n    </tr>\n    <tr>\n      <th>3</th>\n      <td>N</td>\n      <td>0.79584</td>\n      <td>4.87864</td>\n      <td>-2.61091</td>\n    </tr>\n    <tr>\n      <th>4</th>\n      <td>N</td>\n      <td>1.95199</td>\n      <td>1.38894</td>\n      <td>6.71909</td>\n    </tr>\n    <tr>\n      <th>...</th>\n      <td>...</td>\n      <td>...</td>\n      <td>...</td>\n      <td>...</td>\n    </tr>\n    <tr>\n      <th>9595</th>\n      <td>N</td>\n      <td>-9.71382</td>\n      <td>8.89948</td>\n      <td>11.42892</td>\n    </tr>\n    <tr>\n      <th>9596</th>\n      <td>N</td>\n      <td>11.29808</td>\n      <td>10.31852</td>\n      <td>-8.64108</td>\n    </tr>\n    <tr>\n      <th>9597</th>\n      <td>N</td>\n      <td>10.74918</td>\n      <td>10.29040</td>\n      <td>-6.60108</td>\n    </tr>\n    <tr>\n      <th>9598</th>\n      <td>N</td>\n      <td>-12.19625</td>\n      <td>-9.51952</td>\n      <td>10.82892</td>\n    </tr>\n    <tr>\n      <th>9599</th>\n      <td>N</td>\n      <td>-11.47572</td>\n      <td>-7.56952</td>\n      <td>10.09892</td>\n    </tr>\n  </tbody>\n</table>\n<p>9600 rows × 4 columns</p>\n</div>"
     },
     "metadata": {},
     "execution_count": 9
    }
   ],
   "source": [
    "import numpy as np\n",
    "import pandas as pd \n",
    "df = pd.read_csv('cluster_C8H15N2-deleted-3.csv')\n",
    "data = pd.DataFrame(df)\n",
    "data"
   ]
  },
  {
   "cell_type": "code",
   "execution_count": 11,
   "metadata": {},
   "outputs": [
    {
     "output_type": "stream",
     "name": "stdout",
     "text": [
      "0.53778408824703\nits 57.47 degree!\n"
     ]
    }
   ],
   "source": [
    "X_ind = (data.x - data.x.shift())[1::2]\n",
    "Y_ind = (data.y - data.y.shift())[1::2]\n",
    "Z_ind = (data.z - data.z.shift())[1::2]\n",
    "Distance = (X_ind*X_ind + Y_ind*Y_ind + Z_ind*Z_ind)**(1/2)\n",
    "costheta = (abs(Z_ind)/Distance)\n",
    "#print(costheta)\n",
    "avg = sum(costheta)/len(costheta)\n",
    "print(avg)\n",
    "print(\"its 57.47 degree!\")"
   ]
  },
  {
   "cell_type": "code",
   "execution_count": 12,
   "metadata": {},
   "outputs": [
    {
     "output_type": "stream",
     "name": "stdout",
     "text": [
      "0.5349376737408122\n"
     ]
    }
   ],
   "source": [
    "final = (0.535343104743049+0.5316858282323577+0.53778408824703)/3\n",
    "print(final)"
   ]
  },
  {
   "source": [
    "## No field"
   ],
   "cell_type": "markdown",
   "metadata": {}
  },
  {
   "cell_type": "code",
   "execution_count": 1,
   "metadata": {},
   "outputs": [
    {
     "output_type": "execute_result",
     "data": {
      "text/plain": [
       "     atom         x        y         z\n",
       "0       N   0.59255  0.31595   0.14957\n",
       "1       N  -1.38402 -0.14775  -0.70493\n",
       "2       N  -4.44980  2.99325   0.45857\n",
       "3       N  -6.17362  1.74875   0.14087\n",
       "4       N   3.87665  5.09504   1.09087\n",
       "...   ...       ...      ...       ...\n",
       "9795    N   6.84247 -8.55109 -11.01471\n",
       "9796    N  11.78275 -6.10043  12.06209\n",
       "9797    N   9.80844 -5.64133  11.32679\n",
       "9798    N -10.75485  8.37030  10.56319\n",
       "9799    N -10.21575  7.57910  12.49839\n",
       "\n",
       "[9800 rows x 4 columns]"
      ],
      "text/html": "<div>\n<style scoped>\n    .dataframe tbody tr th:only-of-type {\n        vertical-align: middle;\n    }\n\n    .dataframe tbody tr th {\n        vertical-align: top;\n    }\n\n    .dataframe thead th {\n        text-align: right;\n    }\n</style>\n<table border=\"1\" class=\"dataframe\">\n  <thead>\n    <tr style=\"text-align: right;\">\n      <th></th>\n      <th>atom</th>\n      <th>x</th>\n      <th>y</th>\n      <th>z</th>\n    </tr>\n  </thead>\n  <tbody>\n    <tr>\n      <th>0</th>\n      <td>N</td>\n      <td>0.59255</td>\n      <td>0.31595</td>\n      <td>0.14957</td>\n    </tr>\n    <tr>\n      <th>1</th>\n      <td>N</td>\n      <td>-1.38402</td>\n      <td>-0.14775</td>\n      <td>-0.70493</td>\n    </tr>\n    <tr>\n      <th>2</th>\n      <td>N</td>\n      <td>-4.44980</td>\n      <td>2.99325</td>\n      <td>0.45857</td>\n    </tr>\n    <tr>\n      <th>3</th>\n      <td>N</td>\n      <td>-6.17362</td>\n      <td>1.74875</td>\n      <td>0.14087</td>\n    </tr>\n    <tr>\n      <th>4</th>\n      <td>N</td>\n      <td>3.87665</td>\n      <td>5.09504</td>\n      <td>1.09087</td>\n    </tr>\n    <tr>\n      <th>...</th>\n      <td>...</td>\n      <td>...</td>\n      <td>...</td>\n      <td>...</td>\n    </tr>\n    <tr>\n      <th>9795</th>\n      <td>N</td>\n      <td>6.84247</td>\n      <td>-8.55109</td>\n      <td>-11.01471</td>\n    </tr>\n    <tr>\n      <th>9796</th>\n      <td>N</td>\n      <td>11.78275</td>\n      <td>-6.10043</td>\n      <td>12.06209</td>\n    </tr>\n    <tr>\n      <th>9797</th>\n      <td>N</td>\n      <td>9.80844</td>\n      <td>-5.64133</td>\n      <td>11.32679</td>\n    </tr>\n    <tr>\n      <th>9798</th>\n      <td>N</td>\n      <td>-10.75485</td>\n      <td>8.37030</td>\n      <td>10.56319</td>\n    </tr>\n    <tr>\n      <th>9799</th>\n      <td>N</td>\n      <td>-10.21575</td>\n      <td>7.57910</td>\n      <td>12.49839</td>\n    </tr>\n  </tbody>\n</table>\n<p>9800 rows × 4 columns</p>\n</div>"
     },
     "metadata": {},
     "execution_count": 1
    }
   ],
   "source": [
    "import numpy as np\n",
    "import pandas as pd \n",
    "df = pd.read_csv('cluster_C8H15N2-deleted-noE.csv')\n",
    "data = pd.DataFrame(df)\n",
    "data"
   ]
  },
  {
   "cell_type": "code",
   "execution_count": 2,
   "metadata": {},
   "outputs": [
    {
     "output_type": "stream",
     "name": "stdout",
     "text": [
      "0.559358194528782\n"
     ]
    }
   ],
   "source": [
    "X_ind = (data.x - data.x.shift())[1::2]\n",
    "Y_ind = (data.y - data.y.shift())[1::2]\n",
    "Z_ind = (data.z - data.z.shift())[1::2]\n",
    "Distance = (X_ind*X_ind + Y_ind*Y_ind + Z_ind*Z_ind)**(1/2)\n",
    "costheta = (abs(Z_ind)/Distance)\n",
    "#print(costheta)\n",
    "avg = sum(costheta)/len(costheta)\n",
    "print(avg)"
   ]
  },
  {
   "source": [
    "## WHY????"
   ],
   "cell_type": "markdown",
   "metadata": {}
  },
  {
   "source": [
    "## test4-N2N1-under field"
   ],
   "cell_type": "markdown",
   "metadata": {}
  },
  {
   "cell_type": "code",
   "execution_count": 1,
   "metadata": {},
   "outputs": [
    {
     "output_type": "execute_result",
     "data": {
      "text/plain": [
       "     atom         x         y         z\n",
       "0       N  -0.35554   0.17997   0.58083\n",
       "1       N   1.14746   0.02497  -1.08917\n",
       "2       N   1.05796   1.46267  -5.22917\n",
       "3       N  -0.63255   1.49097  -3.85917\n",
       "4       N  -1.21344  -5.32503   2.19083\n",
       "...   ...       ...       ...       ...\n",
       "9595    N  11.51846  -9.87104   9.05320\n",
       "9596    N  -8.58134 -10.80824  11.92320\n",
       "9597    N  -8.08954  -9.19364  13.22320\n",
       "9598    N -12.42310 -11.50134  -9.08680\n",
       "9599    N -12.37979 -13.43534  -8.07680\n",
       "\n",
       "[9600 rows x 4 columns]"
      ],
      "text/html": "<div>\n<style scoped>\n    .dataframe tbody tr th:only-of-type {\n        vertical-align: middle;\n    }\n\n    .dataframe tbody tr th {\n        vertical-align: top;\n    }\n\n    .dataframe thead th {\n        text-align: right;\n    }\n</style>\n<table border=\"1\" class=\"dataframe\">\n  <thead>\n    <tr style=\"text-align: right;\">\n      <th></th>\n      <th>atom</th>\n      <th>x</th>\n      <th>y</th>\n      <th>z</th>\n    </tr>\n  </thead>\n  <tbody>\n    <tr>\n      <th>0</th>\n      <td>N</td>\n      <td>-0.35554</td>\n      <td>0.17997</td>\n      <td>0.58083</td>\n    </tr>\n    <tr>\n      <th>1</th>\n      <td>N</td>\n      <td>1.14746</td>\n      <td>0.02497</td>\n      <td>-1.08917</td>\n    </tr>\n    <tr>\n      <th>2</th>\n      <td>N</td>\n      <td>1.05796</td>\n      <td>1.46267</td>\n      <td>-5.22917</td>\n    </tr>\n    <tr>\n      <th>3</th>\n      <td>N</td>\n      <td>-0.63255</td>\n      <td>1.49097</td>\n      <td>-3.85917</td>\n    </tr>\n    <tr>\n      <th>4</th>\n      <td>N</td>\n      <td>-1.21344</td>\n      <td>-5.32503</td>\n      <td>2.19083</td>\n    </tr>\n    <tr>\n      <th>...</th>\n      <td>...</td>\n      <td>...</td>\n      <td>...</td>\n      <td>...</td>\n    </tr>\n    <tr>\n      <th>9595</th>\n      <td>N</td>\n      <td>11.51846</td>\n      <td>-9.87104</td>\n      <td>9.05320</td>\n    </tr>\n    <tr>\n      <th>9596</th>\n      <td>N</td>\n      <td>-8.58134</td>\n      <td>-10.80824</td>\n      <td>11.92320</td>\n    </tr>\n    <tr>\n      <th>9597</th>\n      <td>N</td>\n      <td>-8.08954</td>\n      <td>-9.19364</td>\n      <td>13.22320</td>\n    </tr>\n    <tr>\n      <th>9598</th>\n      <td>N</td>\n      <td>-12.42310</td>\n      <td>-11.50134</td>\n      <td>-9.08680</td>\n    </tr>\n    <tr>\n      <th>9599</th>\n      <td>N</td>\n      <td>-12.37979</td>\n      <td>-13.43534</td>\n      <td>-8.07680</td>\n    </tr>\n  </tbody>\n</table>\n<p>9600 rows × 4 columns</p>\n</div>"
     },
     "metadata": {},
     "execution_count": 1
    }
   ],
   "source": [
    "import numpy as np\n",
    "import pandas as pd \n",
    "df = pd.read_csv('cluster_C8H15N2-deleted-4.csv')\n",
    "data = pd.DataFrame(df)\n",
    "data"
   ]
  },
  {
   "cell_type": "code",
   "execution_count": 2,
   "metadata": {},
   "outputs": [
    {
     "output_type": "stream",
     "name": "stdout",
     "text": [
      "0.5355652899036761\n"
     ]
    }
   ],
   "source": [
    "X_ind = (data.x - data.x.shift())[1::2]\n",
    "Y_ind = (data.y - data.y.shift())[1::2]\n",
    "Z_ind = (data.z - data.z.shift())[1::2]\n",
    "Distance = (X_ind*X_ind + Y_ind*Y_ind + Z_ind*Z_ind)**(1/2)\n",
    "costheta = (abs(Z_ind)/Distance)\n",
    "#print(costheta)\n",
    "avg = sum(costheta)/len(costheta)\n",
    "print(avg)"
   ]
  },
  {
   "source": [
    "## N2N1-no field"
   ],
   "cell_type": "markdown",
   "metadata": {}
  },
  {
   "cell_type": "code",
   "execution_count": 3,
   "metadata": {},
   "outputs": [
    {
     "output_type": "execute_result",
     "data": {
      "text/plain": [
       "     atom         x        y         z\n",
       "0       N  -0.49847  0.11720  -0.50364\n",
       "1       N   1.27263 -0.32329   0.63707\n",
       "2       N   2.33813  1.81320  -4.19994\n",
       "3       N   0.78573  2.53440  -5.49364\n",
       "4       N  -1.39817 -3.11330   4.41819\n",
       "...   ...       ...      ...       ...\n",
       "9697    N  10.21993  3.88347  -9.43721\n",
       "9698    N -10.75485  8.37030  10.56319\n",
       "9699    N -10.21575  7.57910  12.49839\n",
       "9700    N  11.78275 -6.10043  12.06209\n",
       "9701    N   9.80844 -5.64133  11.32679\n",
       "\n",
       "[9702 rows x 4 columns]"
      ],
      "text/html": "<div>\n<style scoped>\n    .dataframe tbody tr th:only-of-type {\n        vertical-align: middle;\n    }\n\n    .dataframe tbody tr th {\n        vertical-align: top;\n    }\n\n    .dataframe thead th {\n        text-align: right;\n    }\n</style>\n<table border=\"1\" class=\"dataframe\">\n  <thead>\n    <tr style=\"text-align: right;\">\n      <th></th>\n      <th>atom</th>\n      <th>x</th>\n      <th>y</th>\n      <th>z</th>\n    </tr>\n  </thead>\n  <tbody>\n    <tr>\n      <th>0</th>\n      <td>N</td>\n      <td>-0.49847</td>\n      <td>0.11720</td>\n      <td>-0.50364</td>\n    </tr>\n    <tr>\n      <th>1</th>\n      <td>N</td>\n      <td>1.27263</td>\n      <td>-0.32329</td>\n      <td>0.63707</td>\n    </tr>\n    <tr>\n      <th>2</th>\n      <td>N</td>\n      <td>2.33813</td>\n      <td>1.81320</td>\n      <td>-4.19994</td>\n    </tr>\n    <tr>\n      <th>3</th>\n      <td>N</td>\n      <td>0.78573</td>\n      <td>2.53440</td>\n      <td>-5.49364</td>\n    </tr>\n    <tr>\n      <th>4</th>\n      <td>N</td>\n      <td>-1.39817</td>\n      <td>-3.11330</td>\n      <td>4.41819</td>\n    </tr>\n    <tr>\n      <th>...</th>\n      <td>...</td>\n      <td>...</td>\n      <td>...</td>\n      <td>...</td>\n    </tr>\n    <tr>\n      <th>9697</th>\n      <td>N</td>\n      <td>10.21993</td>\n      <td>3.88347</td>\n      <td>-9.43721</td>\n    </tr>\n    <tr>\n      <th>9698</th>\n      <td>N</td>\n      <td>-10.75485</td>\n      <td>8.37030</td>\n      <td>10.56319</td>\n    </tr>\n    <tr>\n      <th>9699</th>\n      <td>N</td>\n      <td>-10.21575</td>\n      <td>7.57910</td>\n      <td>12.49839</td>\n    </tr>\n    <tr>\n      <th>9700</th>\n      <td>N</td>\n      <td>11.78275</td>\n      <td>-6.10043</td>\n      <td>12.06209</td>\n    </tr>\n    <tr>\n      <th>9701</th>\n      <td>N</td>\n      <td>9.80844</td>\n      <td>-5.64133</td>\n      <td>11.32679</td>\n    </tr>\n  </tbody>\n</table>\n<p>9702 rows × 4 columns</p>\n</div>"
     },
     "metadata": {},
     "execution_count": 3
    }
   ],
   "source": [
    "import numpy as np\n",
    "import pandas as pd \n",
    "df = pd.read_csv('cluster_C8H15N2-deleted-noE-3.csv')\n",
    "data = pd.DataFrame(df)\n",
    "data"
   ]
  },
  {
   "cell_type": "code",
   "execution_count": 4,
   "metadata": {},
   "outputs": [
    {
     "output_type": "stream",
     "name": "stdout",
     "text": [
      "0.5607170358210694\n"
     ]
    }
   ],
   "source": [
    "X_ind = (data.x - data.x.shift())[1::2]\n",
    "Y_ind = (data.y - data.y.shift())[1::2]\n",
    "Z_ind = (data.z - data.z.shift())[1::2]\n",
    "Distance = (X_ind*X_ind + Y_ind*Y_ind + Z_ind*Z_ind)**(1/2)\n",
    "costheta = (abs(Z_ind)/Distance)\n",
    "#print(costheta)\n",
    "avg = sum(costheta)/len(costheta)\n",
    "print(avg)"
   ]
  },
  {
   "source": [
    "## why???"
   ],
   "cell_type": "markdown",
   "metadata": {}
  }
 ]
}