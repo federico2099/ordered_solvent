{
 "metadata": {
  "language_info": {
   "codemirror_mode": {
    "name": "ipython",
    "version": 3
   },
   "file_extension": ".py",
   "mimetype": "text/x-python",
   "name": "python",
   "nbconvert_exporter": "python",
   "pygments_lexer": "ipython3",
   "version": "3.7.7"
  },
  "orig_nbformat": 2,
  "kernelspec": {
   "name": "python377jvsc74a57bd0dfa59e20d5c8c60fce0ba53ae3b7bd88e86c0f475f6d58b292feaec904d92263",
   "display_name": "Python 3.7.7 64-bit ('myenv': conda)"
  }
 },
 "nbformat": 4,
 "nbformat_minor": 2,
 "cells": [
  {
   "source": [
    "## under field E=0.2V/angstrom"
   ],
   "cell_type": "markdown",
   "metadata": {}
  },
  {
   "cell_type": "code",
   "execution_count": 23,
   "metadata": {},
   "outputs": [
    {
     "output_type": "execute_result",
     "data": {
      "text/plain": [
       "     atom         x         y         z\n",
       "0       N  -0.35554   0.17997   0.58083\n",
       "1       N   1.14746   0.02497  -1.08917\n",
       "2       N   1.05796   1.46267  -5.22917\n",
       "3       N  -0.63255   1.49097  -3.85917\n",
       "4       N  -1.21344  -5.32503   2.19083\n",
       "...   ...       ...       ...       ...\n",
       "9595    N  11.51846  -9.87104   9.05320\n",
       "9596    N  -8.58134 -10.80824  11.92320\n",
       "9597    N  -8.08954  -9.19364  13.22320\n",
       "9598    N -12.42310 -11.50134  -9.08680\n",
       "9599    N -12.37979 -13.43534  -8.07680\n",
       "\n",
       "[9600 rows x 4 columns]"
      ],
      "text/html": "<div>\n<style scoped>\n    .dataframe tbody tr th:only-of-type {\n        vertical-align: middle;\n    }\n\n    .dataframe tbody tr th {\n        vertical-align: top;\n    }\n\n    .dataframe thead th {\n        text-align: right;\n    }\n</style>\n<table border=\"1\" class=\"dataframe\">\n  <thead>\n    <tr style=\"text-align: right;\">\n      <th></th>\n      <th>atom</th>\n      <th>x</th>\n      <th>y</th>\n      <th>z</th>\n    </tr>\n  </thead>\n  <tbody>\n    <tr>\n      <th>0</th>\n      <td>N</td>\n      <td>-0.35554</td>\n      <td>0.17997</td>\n      <td>0.58083</td>\n    </tr>\n    <tr>\n      <th>1</th>\n      <td>N</td>\n      <td>1.14746</td>\n      <td>0.02497</td>\n      <td>-1.08917</td>\n    </tr>\n    <tr>\n      <th>2</th>\n      <td>N</td>\n      <td>1.05796</td>\n      <td>1.46267</td>\n      <td>-5.22917</td>\n    </tr>\n    <tr>\n      <th>3</th>\n      <td>N</td>\n      <td>-0.63255</td>\n      <td>1.49097</td>\n      <td>-3.85917</td>\n    </tr>\n    <tr>\n      <th>4</th>\n      <td>N</td>\n      <td>-1.21344</td>\n      <td>-5.32503</td>\n      <td>2.19083</td>\n    </tr>\n    <tr>\n      <th>...</th>\n      <td>...</td>\n      <td>...</td>\n      <td>...</td>\n      <td>...</td>\n    </tr>\n    <tr>\n      <th>9595</th>\n      <td>N</td>\n      <td>11.51846</td>\n      <td>-9.87104</td>\n      <td>9.05320</td>\n    </tr>\n    <tr>\n      <th>9596</th>\n      <td>N</td>\n      <td>-8.58134</td>\n      <td>-10.80824</td>\n      <td>11.92320</td>\n    </tr>\n    <tr>\n      <th>9597</th>\n      <td>N</td>\n      <td>-8.08954</td>\n      <td>-9.19364</td>\n      <td>13.22320</td>\n    </tr>\n    <tr>\n      <th>9598</th>\n      <td>N</td>\n      <td>-12.42310</td>\n      <td>-11.50134</td>\n      <td>-9.08680</td>\n    </tr>\n    <tr>\n      <th>9599</th>\n      <td>N</td>\n      <td>-12.37979</td>\n      <td>-13.43534</td>\n      <td>-8.07680</td>\n    </tr>\n  </tbody>\n</table>\n<p>9600 rows × 4 columns</p>\n</div>"
     },
     "metadata": {},
     "execution_count": 23
    }
   ],
   "source": [
    "import numpy as np\n",
    "import pandas as pd \n",
    "df = pd.read_csv('cluster_C8H15N2-deleted-4.csv')\n",
    "data = pd.DataFrame(df)\n",
    "data"
   ]
  },
  {
   "cell_type": "code",
   "execution_count": 26,
   "metadata": {},
   "outputs": [
    {
     "output_type": "stream",
     "name": "stdout",
     "text": [
      "1       137.862050\n3        50.982399\n5        16.500674\n7        87.163690\n9        59.106307\n           ...    \n9591     45.176992\n9593     81.866514\n9595     52.617342\n9597     52.395973\n9599     62.430812\nLength: 4800, dtype: float64\n76.4939327850128\n"
     ]
    }
   ],
   "source": [
    "X_ind = (data.x - data.x.shift())[1::2]\n",
    "Y_ind = (data.y - data.y.shift())[1::2]\n",
    "Z_ind = (data.z - data.z.shift())[1::2]\n",
    "Distance = (X_ind*X_ind + Y_ind*Y_ind + Z_ind*Z_ind)**(1/2)\n",
    "costheta = (Z_ind/Distance)\n",
    "deg = np.arccos(costheta)\n",
    "deg2 = (deg/3.1415926535897932384626433)*180\n",
    "print(deg2)\n",
    "avg = sum(deg2)/len(deg2)\n",
    "print(avg)\n"
   ]
  },
  {
   "source": [
    "## Without field"
   ],
   "cell_type": "markdown",
   "metadata": {}
  },
  {
   "cell_type": "code",
   "execution_count": 27,
   "metadata": {},
   "outputs": [
    {
     "output_type": "execute_result",
     "data": {
      "text/plain": [
       "     atom         x        y         z\n",
       "0       N  -0.49847  0.11720  -0.50364\n",
       "1       N   1.27263 -0.32329   0.63707\n",
       "2       N   2.33813  1.81320  -4.19994\n",
       "3       N   0.78573  2.53440  -5.49364\n",
       "4       N  -1.39817 -3.11330   4.41819\n",
       "...   ...       ...      ...       ...\n",
       "9697    N  10.21993  3.88347  -9.43721\n",
       "9698    N -10.75485  8.37030  10.56319\n",
       "9699    N -10.21575  7.57910  12.49839\n",
       "9700    N  11.78275 -6.10043  12.06209\n",
       "9701    N   9.80844 -5.64133  11.32679\n",
       "\n",
       "[9702 rows x 4 columns]"
      ],
      "text/html": "<div>\n<style scoped>\n    .dataframe tbody tr th:only-of-type {\n        vertical-align: middle;\n    }\n\n    .dataframe tbody tr th {\n        vertical-align: top;\n    }\n\n    .dataframe thead th {\n        text-align: right;\n    }\n</style>\n<table border=\"1\" class=\"dataframe\">\n  <thead>\n    <tr style=\"text-align: right;\">\n      <th></th>\n      <th>atom</th>\n      <th>x</th>\n      <th>y</th>\n      <th>z</th>\n    </tr>\n  </thead>\n  <tbody>\n    <tr>\n      <th>0</th>\n      <td>N</td>\n      <td>-0.49847</td>\n      <td>0.11720</td>\n      <td>-0.50364</td>\n    </tr>\n    <tr>\n      <th>1</th>\n      <td>N</td>\n      <td>1.27263</td>\n      <td>-0.32329</td>\n      <td>0.63707</td>\n    </tr>\n    <tr>\n      <th>2</th>\n      <td>N</td>\n      <td>2.33813</td>\n      <td>1.81320</td>\n      <td>-4.19994</td>\n    </tr>\n    <tr>\n      <th>3</th>\n      <td>N</td>\n      <td>0.78573</td>\n      <td>2.53440</td>\n      <td>-5.49364</td>\n    </tr>\n    <tr>\n      <th>4</th>\n      <td>N</td>\n      <td>-1.39817</td>\n      <td>-3.11330</td>\n      <td>4.41819</td>\n    </tr>\n    <tr>\n      <th>...</th>\n      <td>...</td>\n      <td>...</td>\n      <td>...</td>\n      <td>...</td>\n    </tr>\n    <tr>\n      <th>9697</th>\n      <td>N</td>\n      <td>10.21993</td>\n      <td>3.88347</td>\n      <td>-9.43721</td>\n    </tr>\n    <tr>\n      <th>9698</th>\n      <td>N</td>\n      <td>-10.75485</td>\n      <td>8.37030</td>\n      <td>10.56319</td>\n    </tr>\n    <tr>\n      <th>9699</th>\n      <td>N</td>\n      <td>-10.21575</td>\n      <td>7.57910</td>\n      <td>12.49839</td>\n    </tr>\n    <tr>\n      <th>9700</th>\n      <td>N</td>\n      <td>11.78275</td>\n      <td>-6.10043</td>\n      <td>12.06209</td>\n    </tr>\n    <tr>\n      <th>9701</th>\n      <td>N</td>\n      <td>9.80844</td>\n      <td>-5.64133</td>\n      <td>11.32679</td>\n    </tr>\n  </tbody>\n</table>\n<p>9702 rows × 4 columns</p>\n</div>"
     },
     "metadata": {},
     "execution_count": 27
    }
   ],
   "source": [
    "import numpy as np\n",
    "import pandas as pd \n",
    "df = pd.read_csv('cluster_C8H15N2-deleted-noE-3.csv')\n",
    "data = pd.DataFrame(df)\n",
    "data"
   ]
  },
  {
   "cell_type": "code",
   "execution_count": 28,
   "metadata": {},
   "outputs": [
    {
     "output_type": "stream",
     "name": "stdout",
     "text": [
      "1        57.993477\n3       127.081183\n5       119.895243\n7        55.679602\n9        94.136541\n           ...    \n9693     59.407615\n9695      6.403684\n9697     61.714207\n9699     26.323090\n9701    109.938509\nLength: 4851, dtype: float64\n97.90379614647455\n"
     ]
    }
   ],
   "source": [
    "X_ind = (data.x - data.x.shift())[1::2]\n",
    "Y_ind = (data.y - data.y.shift())[1::2]\n",
    "Z_ind = (data.z - data.z.shift())[1::2]\n",
    "Distance = (X_ind*X_ind + Y_ind*Y_ind + Z_ind*Z_ind)**(1/2)\n",
    "costheta = (Z_ind/Distance)\n",
    "deg = np.arccos(costheta)\n",
    "deg2 = (deg/3.1415926535897932384626433)*180\n",
    "print(deg2)\n",
    "avg = sum(deg2)/len(deg2)\n",
    "print(avg)"
   ]
  },
  {
   "cell_type": "code",
   "execution_count": null,
   "metadata": {},
   "outputs": [],
   "source": []
  }
 ]
}